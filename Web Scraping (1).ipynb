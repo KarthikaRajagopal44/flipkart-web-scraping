{
 "cells": [
  {
   "cell_type": "markdown",
   "id": "2be6323d",
   "metadata": {},
   "source": [
    "#### Importimg Necessary Libraries"
   ]
  },
  {
   "cell_type": "code",
   "execution_count": 1,
   "id": "ad080a0b",
   "metadata": {},
   "outputs": [],
   "source": [
    "import numpy as np\n",
    "import pandas as pd\n",
    "import requests\n",
    "from bs4 import BeautifulSoup\n",
    "\n",
    "import matplotlib.pyplot as plt\n",
    "import seaborn as sns\n",
    "\n",
    "import warnings; warnings.filterwarnings(\"ignore\")"
   ]
  },
  {
   "cell_type": "markdown",
   "id": "09b56810",
   "metadata": {},
   "source": [
    "#### Filkart url "
   ]
  },
  {
   "cell_type": "code",
   "execution_count": 2,
   "id": "32f0a607",
   "metadata": {},
   "outputs": [],
   "source": [
    "url2 = \"https://www.flipkart.com/search?q=iphones&otracker=search&otracker1=search&marketplace=FLIPKART&as-show=on&as=off\""
   ]
  },
  {
   "cell_type": "code",
   "execution_count": 3,
   "id": "8e1a70c9",
   "metadata": {},
   "outputs": [
    {
     "name": "stdout",
     "output_type": "stream",
     "text": [
      "200\n"
     ]
    }
   ],
   "source": [
    "res = requests.get(url2)\n",
    "print(res.status_code)"
   ]
  },
  {
   "cell_type": "markdown",
   "id": "ef682e32",
   "metadata": {},
   "source": [
    "### Flipkart Web Scraping"
   ]
  },
  {
   "cell_type": "code",
   "execution_count": 4,
   "id": "81f78959",
   "metadata": {
    "scrolled": true
   },
   "outputs": [],
   "source": [
    "soup = BeautifulSoup(res.content , \"html.parser\")\n",
    "#print(soup.prettify())"
   ]
  },
  {
   "cell_type": "code",
   "execution_count": 5,
   "id": "045c4f09",
   "metadata": {},
   "outputs": [],
   "source": [
    "data = soup.find_all(class_ = \"_2kHMtA\")"
   ]
  },
  {
   "cell_type": "code",
   "execution_count": 6,
   "id": "d3607829",
   "metadata": {},
   "outputs": [],
   "source": [
    "# creating and empty list\n",
    "# Product_name = []\n",
    "# Stars = []\n",
    "# Ratings = []\n",
    "# Reviews = []\n",
    "# Price = []\n",
    "# Actual_price = []\n",
    "# Rom = []\n",
    "# Display = []\n",
    "# Back_camera = []\n",
    "# Front_camera = []\n",
    "# Processor = []\n",
    "\n",
    "# for i in data:  # fetching the data\n",
    "#     Product_name.append(i.find(\"div\",{\"class\":\"_4rR01T\"}).text)\n",
    "#     Stars.append(i.find(\"div\",{\"class\":\"_3LWZlK\"}).text)\n",
    "#     Ratings.append(i.find(\"span\",{\"class\":\"_2_R_DZ\"}).text.split()[0])\n",
    "#     Reviews.append(i.find(\"span\",{\"class\":\"_2_R_DZ\"}).text.split()[3])\n",
    "#     Price.append(i.find(\"div\",{\"class\": \"_30jeq3 _1_WHN1\"}).text)\n",
    "#     Actual_price.append(i.find(\"div\", {\"class\":\"_3I9_wc _27UcVY\"}).text)\n",
    "#     Rom.append(i.find_all(\"li\",{\"class\":\"rgWa7D\"})[0].text.split()[0])\n",
    "#     Display.append(i.find_all(\"li\",{\"class\":\"rgWa7D\"})[1].text.split()[0])\n",
    "#     Back_camera.append(i.find_all(\"li\",{\"class\":\"rgWa7D\"})[2].text.split('|')[0])\n",
    "#     Front_camera.append(i.find_all(\"li\",{\"class\":\"rgWa7D\"})[2].text.split('|')[1].split()[0].strip())\n",
    "#     Processor.append(i.find_all(\"li\",{\"class\":\"rgWa7D\"})[3].text)         \n",
    "\n",
    "# # creating a dicitonary    \n",
    "# d =  {\n",
    "#     \"Product_name\":Product_name,\n",
    "#     \"Price\":Price,\n",
    "#     \"Actual_price\":Actual_price,\n",
    "#     \"Stars\":Stars,\n",
    "#     \"Ratings\":Ratings,\n",
    "#     \"Reviews\":Reviews,\n",
    "#     \"Rom\":Rom,\n",
    "#     \"Display\":Display,\n",
    "#     \"Back_camera\":Back_camera,\n",
    "#     \"Front_camera\":Front_camera,\n",
    "#     \"Processor\":Processor\n",
    "# }   \n",
    "\n",
    "# df = pd.DataFrame(d)\n"
   ]
  },
  {
   "cell_type": "code",
   "execution_count": 7,
   "id": "c109a363",
   "metadata": {},
   "outputs": [],
   "source": [
    "\n",
    "# final_df = pd.DataFrame()\n",
    "\n",
    "# for j in range(1,491):\n",
    "    \n",
    "#     url = \"https://www.flipkart.com/search?q=iphones&otracker=search&otracker1=search&marketplace=FLIPKART&as-show=on&as=off&page={}\".format(j)\n",
    "#     res = requests.get(url)\n",
    "#     soup = BeautifulSoup(res.content , \"html.parser\")\n",
    "#     data = soup.find_all(class_ = \"_2kHMtA\")\n",
    "    \n",
    "#     Product_name = []\n",
    "#     Stars = []\n",
    "#     Ratings = []\n",
    "#     Reviews = []\n",
    "#     Price = []\n",
    "#     Actual_price = []\n",
    "#     Rom = []\n",
    "#     Display = []\n",
    "#     Back_camera = []\n",
    "#     Front_camera = []\n",
    "#     Processor = []\n",
    "\n",
    "#     for i in data:\n",
    "#         Product_name.append(i.find(\"div\",{\"class\":\"_4rR01T\"}).text)\n",
    "#         Stars.append(i.find(\"div\",{\"class\":\"_3LWZlK\"}).text)\n",
    "#         Ratings.append(i.find(\"span\",{\"class\":\"_2_R_DZ\"}).text.split()[0])\n",
    "#         Reviews.append(i.find(\"span\",{\"class\":\"_2_R_DZ\"}).text.split()[3])\n",
    "#         Price.append(i.find(\"div\",{\"class\": \"_30jeq3 _1_WHN1\"}).text)\n",
    "#         try:\n",
    "#             Actual_price.append(i.find(\"div\",{\"class\":\"_3I9_wc _27UcVY\"}).text)\n",
    "#         except:\n",
    "#             Actual_price.append(0)     \n",
    "#         Rom.append(i.find_all(\"li\",{\"class\":\"rgWa7D\"})[0].text.split()[0])\n",
    "#         Display.append(i.find_all(\"li\",{\"class\":\"rgWa7D\"})[1].text.split()[0])\n",
    "#         Back_camera.append(i.find_all(\"li\",{\"class\":\"rgWa7D\"})[2].text.split('|')[0])\n",
    "#         Front_camera.append(i.find_all(\"li\",{\"class\":\"rgWa7D\"})[2].text.split('|')[1].split()[0].strip())\n",
    "#         Processor.append(i.find_all(\"li\",{\"class\":\"rgWa7D\"})[3].text)         \n",
    "\n",
    "#     d =  {\n",
    "#         \"Product_name\":Product_name,\n",
    "#         \"Price\":Price,\n",
    "#         \"Actual_price\":Actual_price,\n",
    "#         \"Stars\":Stars,\n",
    "#         \"Ratings\":Ratings,\n",
    "#         \"Reviews\":Reviews,\n",
    "#         \"Rom\":Rom,\n",
    "#         \"Display\":Display,\n",
    "#         \"Back_camera\":Back_camera,\n",
    "#         \"Front_camera\":Front_camera,\n",
    "#         \"Processor\":Processor\n",
    "#     }   \n",
    "\n",
    "#     df = pd.DataFrame(d)\n",
    "\n",
    "#     final_df = final_df.append(df,ignore_index = True)\n"
   ]
  },
  {
   "cell_type": "markdown",
   "id": "ff059eed",
   "metadata": {},
   "source": [
    "#### Saving file to csv"
   ]
  },
  {
   "cell_type": "code",
   "execution_count": 8,
   "id": "39c5855c",
   "metadata": {},
   "outputs": [],
   "source": [
    "#final_df.to_csv(\"Iphones.csv\")"
   ]
  },
  {
   "cell_type": "markdown",
   "id": "706b34cc",
   "metadata": {},
   "source": [
    "#### Reading the file"
   ]
  },
  {
   "cell_type": "code",
   "execution_count": 9,
   "id": "edccd5ac",
   "metadata": {},
   "outputs": [],
   "source": [
    "df = pd.read_csv(\"Iphones.csv\",index_col=0)"
   ]
  },
  {
   "cell_type": "code",
   "execution_count": 10,
   "id": "715fa777",
   "metadata": {
    "scrolled": true
   },
   "outputs": [
    {
     "data": {
      "text/html": [
       "<div>\n",
       "<style scoped>\n",
       "    .dataframe tbody tr th:only-of-type {\n",
       "        vertical-align: middle;\n",
       "    }\n",
       "\n",
       "    .dataframe tbody tr th {\n",
       "        vertical-align: top;\n",
       "    }\n",
       "\n",
       "    .dataframe thead th {\n",
       "        text-align: right;\n",
       "    }\n",
       "</style>\n",
       "<table border=\"1\" class=\"dataframe\">\n",
       "  <thead>\n",
       "    <tr style=\"text-align: right;\">\n",
       "      <th></th>\n",
       "      <th>Product_name</th>\n",
       "      <th>Price</th>\n",
       "      <th>Actual_price</th>\n",
       "      <th>Stars</th>\n",
       "      <th>Ratings</th>\n",
       "      <th>Reviews</th>\n",
       "      <th>Rom</th>\n",
       "      <th>Display</th>\n",
       "      <th>Back_camera</th>\n",
       "      <th>Front_camera</th>\n",
       "      <th>Processor</th>\n",
       "    </tr>\n",
       "  </thead>\n",
       "  <tbody>\n",
       "    <tr>\n",
       "      <th>0</th>\n",
       "      <td>APPLE iPhone 14 (Purple, 128 GB)</td>\n",
       "      <td>₹57,999</td>\n",
       "      <td>₹69,900</td>\n",
       "      <td>4.6</td>\n",
       "      <td>2,64,179</td>\n",
       "      <td>10,321</td>\n",
       "      <td>128</td>\n",
       "      <td>15.49</td>\n",
       "      <td>12MP + 12MP</td>\n",
       "      <td>12MP</td>\n",
       "      <td>A15 Bionic Chip, 6 Core Processor Processor</td>\n",
       "    </tr>\n",
       "    <tr>\n",
       "      <th>1</th>\n",
       "      <td>APPLE iPhone 13 (Starlight, 128 GB)</td>\n",
       "      <td>₹51,999</td>\n",
       "      <td>₹59,900</td>\n",
       "      <td>4.6</td>\n",
       "      <td>2,76,095</td>\n",
       "      <td>13,448</td>\n",
       "      <td>128</td>\n",
       "      <td>15.49</td>\n",
       "      <td>12MP + 12MP</td>\n",
       "      <td>12MP</td>\n",
       "      <td>A15 Bionic Chip Processor</td>\n",
       "    </tr>\n",
       "    <tr>\n",
       "      <th>2</th>\n",
       "      <td>APPLE iPhone 14 (Midnight, 128 GB)</td>\n",
       "      <td>₹57,999</td>\n",
       "      <td>₹69,900</td>\n",
       "      <td>4.6</td>\n",
       "      <td>2,64,179</td>\n",
       "      <td>10,321</td>\n",
       "      <td>128</td>\n",
       "      <td>15.49</td>\n",
       "      <td>12MP + 12MP</td>\n",
       "      <td>12MP</td>\n",
       "      <td>A15 Bionic Chip, 6 Core Processor Processor</td>\n",
       "    </tr>\n",
       "    <tr>\n",
       "      <th>3</th>\n",
       "      <td>APPLE iPhone 15 (Blue, 128 GB)</td>\n",
       "      <td>₹66,999</td>\n",
       "      <td>₹79,900</td>\n",
       "      <td>4.6</td>\n",
       "      <td>3,229</td>\n",
       "      <td>242</td>\n",
       "      <td>128</td>\n",
       "      <td>15.49</td>\n",
       "      <td>48MP + 12MP</td>\n",
       "      <td>12MP</td>\n",
       "      <td>A16 Bionic Chip, 6 Core Processor Processor</td>\n",
       "    </tr>\n",
       "    <tr>\n",
       "      <th>4</th>\n",
       "      <td>APPLE iPhone 14 (Starlight, 128 GB)</td>\n",
       "      <td>₹57,999</td>\n",
       "      <td>₹69,900</td>\n",
       "      <td>4.6</td>\n",
       "      <td>2,64,179</td>\n",
       "      <td>10,321</td>\n",
       "      <td>128</td>\n",
       "      <td>15.49</td>\n",
       "      <td>12MP + 12MP</td>\n",
       "      <td>12MP</td>\n",
       "      <td>A15 Bionic Chip, 6 Core Processor Processor</td>\n",
       "    </tr>\n",
       "  </tbody>\n",
       "</table>\n",
       "</div>"
      ],
      "text/plain": [
       "                          Product_name    Price Actual_price  Stars   Ratings  \\\n",
       "0     APPLE iPhone 14 (Purple, 128 GB)  ₹57,999      ₹69,900    4.6  2,64,179   \n",
       "1  APPLE iPhone 13 (Starlight, 128 GB)  ₹51,999      ₹59,900    4.6  2,76,095   \n",
       "2   APPLE iPhone 14 (Midnight, 128 GB)  ₹57,999      ₹69,900    4.6  2,64,179   \n",
       "3       APPLE iPhone 15 (Blue, 128 GB)  ₹66,999      ₹79,900    4.6     3,229   \n",
       "4  APPLE iPhone 14 (Starlight, 128 GB)  ₹57,999      ₹69,900    4.6  2,64,179   \n",
       "\n",
       "  Reviews  Rom  Display   Back_camera Front_camera  \\\n",
       "0  10,321  128    15.49  12MP + 12MP          12MP   \n",
       "1  13,448  128    15.49  12MP + 12MP          12MP   \n",
       "2  10,321  128    15.49  12MP + 12MP          12MP   \n",
       "3     242  128    15.49  48MP + 12MP          12MP   \n",
       "4  10,321  128    15.49  12MP + 12MP          12MP   \n",
       "\n",
       "                                     Processor  \n",
       "0  A15 Bionic Chip, 6 Core Processor Processor  \n",
       "1                    A15 Bionic Chip Processor  \n",
       "2  A15 Bionic Chip, 6 Core Processor Processor  \n",
       "3  A16 Bionic Chip, 6 Core Processor Processor  \n",
       "4  A15 Bionic Chip, 6 Core Processor Processor  "
      ]
     },
     "execution_count": 10,
     "metadata": {},
     "output_type": "execute_result"
    }
   ],
   "source": [
    "df.head()"
   ]
  },
  {
   "cell_type": "markdown",
   "id": "55cbaab8",
   "metadata": {},
   "source": [
    "#### Understanding Data"
   ]
  },
  {
   "cell_type": "code",
   "execution_count": 11,
   "id": "135eabe7",
   "metadata": {},
   "outputs": [
    {
     "data": {
      "text/plain": [
       "(490, 11)"
      ]
     },
     "execution_count": 11,
     "metadata": {},
     "output_type": "execute_result"
    }
   ],
   "source": [
    "df.shape"
   ]
  },
  {
   "cell_type": "code",
   "execution_count": 12,
   "id": "d40517d6",
   "metadata": {},
   "outputs": [
    {
     "name": "stdout",
     "output_type": "stream",
     "text": [
      "<class 'pandas.core.frame.DataFrame'>\n",
      "Int64Index: 490 entries, 0 to 489\n",
      "Data columns (total 11 columns):\n",
      " #   Column        Non-Null Count  Dtype  \n",
      "---  ------        --------------  -----  \n",
      " 0   Product_name  490 non-null    object \n",
      " 1   Price         490 non-null    object \n",
      " 2   Actual_price  490 non-null    object \n",
      " 3   Stars         490 non-null    float64\n",
      " 4   Ratings       490 non-null    object \n",
      " 5   Reviews       490 non-null    object \n",
      " 6   Rom           490 non-null    int64  \n",
      " 7   Display       490 non-null    float64\n",
      " 8   Back_camera   490 non-null    object \n",
      " 9   Front_camera  490 non-null    object \n",
      " 10  Processor     490 non-null    object \n",
      "dtypes: float64(2), int64(1), object(8)\n",
      "memory usage: 45.9+ KB\n"
     ]
    }
   ],
   "source": [
    "df.info()"
   ]
  },
  {
   "cell_type": "code",
   "execution_count": 13,
   "id": "c6d50546",
   "metadata": {},
   "outputs": [
    {
     "data": {
      "text/html": [
       "<div>\n",
       "<style scoped>\n",
       "    .dataframe tbody tr th:only-of-type {\n",
       "        vertical-align: middle;\n",
       "    }\n",
       "\n",
       "    .dataframe tbody tr th {\n",
       "        vertical-align: top;\n",
       "    }\n",
       "\n",
       "    .dataframe thead th {\n",
       "        text-align: right;\n",
       "    }\n",
       "</style>\n",
       "<table border=\"1\" class=\"dataframe\">\n",
       "  <thead>\n",
       "    <tr style=\"text-align: right;\">\n",
       "      <th></th>\n",
       "      <th>Stars</th>\n",
       "      <th>Rom</th>\n",
       "      <th>Display</th>\n",
       "    </tr>\n",
       "  </thead>\n",
       "  <tbody>\n",
       "    <tr>\n",
       "      <th>count</th>\n",
       "      <td>490.000000</td>\n",
       "      <td>490.000000</td>\n",
       "      <td>490.000000</td>\n",
       "    </tr>\n",
       "    <tr>\n",
       "      <th>mean</th>\n",
       "      <td>4.556122</td>\n",
       "      <td>198.042857</td>\n",
       "      <td>14.765000</td>\n",
       "    </tr>\n",
       "    <tr>\n",
       "      <th>std</th>\n",
       "      <td>0.125864</td>\n",
       "      <td>160.946816</td>\n",
       "      <td>1.831626</td>\n",
       "    </tr>\n",
       "    <tr>\n",
       "      <th>min</th>\n",
       "      <td>3.900000</td>\n",
       "      <td>1.000000</td>\n",
       "      <td>8.890000</td>\n",
       "    </tr>\n",
       "    <tr>\n",
       "      <th>25%</th>\n",
       "      <td>4.500000</td>\n",
       "      <td>64.000000</td>\n",
       "      <td>13.720000</td>\n",
       "    </tr>\n",
       "    <tr>\n",
       "      <th>50%</th>\n",
       "      <td>4.600000</td>\n",
       "      <td>128.000000</td>\n",
       "      <td>15.490000</td>\n",
       "    </tr>\n",
       "    <tr>\n",
       "      <th>75%</th>\n",
       "      <td>4.600000</td>\n",
       "      <td>256.000000</td>\n",
       "      <td>15.490000</td>\n",
       "    </tr>\n",
       "    <tr>\n",
       "      <th>max</th>\n",
       "      <td>5.000000</td>\n",
       "      <td>512.000000</td>\n",
       "      <td>17.020000</td>\n",
       "    </tr>\n",
       "  </tbody>\n",
       "</table>\n",
       "</div>"
      ],
      "text/plain": [
       "            Stars         Rom     Display\n",
       "count  490.000000  490.000000  490.000000\n",
       "mean     4.556122  198.042857   14.765000\n",
       "std      0.125864  160.946816    1.831626\n",
       "min      3.900000    1.000000    8.890000\n",
       "25%      4.500000   64.000000   13.720000\n",
       "50%      4.600000  128.000000   15.490000\n",
       "75%      4.600000  256.000000   15.490000\n",
       "max      5.000000  512.000000   17.020000"
      ]
     },
     "execution_count": 13,
     "metadata": {},
     "output_type": "execute_result"
    }
   ],
   "source": [
    "df.describe()"
   ]
  },
  {
   "cell_type": "code",
   "execution_count": 14,
   "id": "206fb50d",
   "metadata": {
    "scrolled": true
   },
   "outputs": [
    {
     "data": {
      "text/plain": [
       "Product_name    0\n",
       "Price           0\n",
       "Actual_price    0\n",
       "Stars           0\n",
       "Ratings         0\n",
       "Reviews         0\n",
       "Rom             0\n",
       "Display         0\n",
       "Back_camera     0\n",
       "Front_camera    0\n",
       "Processor       0\n",
       "dtype: int64"
      ]
     },
     "execution_count": 14,
     "metadata": {},
     "output_type": "execute_result"
    }
   ],
   "source": [
    "df.isna().sum()"
   ]
  },
  {
   "cell_type": "code",
   "execution_count": 15,
   "id": "282a98b0",
   "metadata": {},
   "outputs": [
    {
     "data": {
      "text/plain": [
       "Index(['Product_name', 'Price', 'Actual_price', 'Stars', 'Ratings', 'Reviews',\n",
       "       'Rom', 'Display', 'Back_camera', 'Front_camera', 'Processor'],\n",
       "      dtype='object')"
      ]
     },
     "execution_count": 15,
     "metadata": {},
     "output_type": "execute_result"
    }
   ],
   "source": [
    "df.columns"
   ]
  },
  {
   "cell_type": "markdown",
   "id": "8c1b1e51",
   "metadata": {},
   "source": [
    "### Data Cleaning and Preprocessing"
   ]
  },
  {
   "cell_type": "code",
   "execution_count": 16,
   "id": "ecba02c3",
   "metadata": {},
   "outputs": [],
   "source": [
    "comma_col = [\"Price\",\"Actual_price\",\"Ratings\",\"Reviews\"]\n",
    "\n",
    "def remove_symbols(x):\n",
    "    return x.replace(\",\",\"\").replace(\"₹\",\"\")\n",
    "\n",
    "df[comma_col] = df[comma_col].applymap(remove_symbols)"
   ]
  },
  {
   "cell_type": "code",
   "execution_count": 17,
   "id": "437f0b83",
   "metadata": {
    "scrolled": true
   },
   "outputs": [
    {
     "data": {
      "text/html": [
       "<div>\n",
       "<style scoped>\n",
       "    .dataframe tbody tr th:only-of-type {\n",
       "        vertical-align: middle;\n",
       "    }\n",
       "\n",
       "    .dataframe tbody tr th {\n",
       "        vertical-align: top;\n",
       "    }\n",
       "\n",
       "    .dataframe thead th {\n",
       "        text-align: right;\n",
       "    }\n",
       "</style>\n",
       "<table border=\"1\" class=\"dataframe\">\n",
       "  <thead>\n",
       "    <tr style=\"text-align: right;\">\n",
       "      <th></th>\n",
       "      <th>Product_name</th>\n",
       "      <th>Price</th>\n",
       "      <th>Actual_price</th>\n",
       "      <th>Stars</th>\n",
       "      <th>Ratings</th>\n",
       "      <th>Reviews</th>\n",
       "      <th>Rom</th>\n",
       "      <th>Display</th>\n",
       "      <th>Back_camera</th>\n",
       "      <th>Front_camera</th>\n",
       "      <th>Processor</th>\n",
       "    </tr>\n",
       "  </thead>\n",
       "  <tbody>\n",
       "    <tr>\n",
       "      <th>0</th>\n",
       "      <td>APPLE iPhone 14 (Purple, 128 GB)</td>\n",
       "      <td>57999</td>\n",
       "      <td>69900</td>\n",
       "      <td>4.6</td>\n",
       "      <td>264179</td>\n",
       "      <td>10321</td>\n",
       "      <td>128</td>\n",
       "      <td>15.49</td>\n",
       "      <td>12MP + 12MP</td>\n",
       "      <td>12MP</td>\n",
       "      <td>A15 Bionic Chip, 6 Core Processor Processor</td>\n",
       "    </tr>\n",
       "    <tr>\n",
       "      <th>1</th>\n",
       "      <td>APPLE iPhone 13 (Starlight, 128 GB)</td>\n",
       "      <td>51999</td>\n",
       "      <td>59900</td>\n",
       "      <td>4.6</td>\n",
       "      <td>276095</td>\n",
       "      <td>13448</td>\n",
       "      <td>128</td>\n",
       "      <td>15.49</td>\n",
       "      <td>12MP + 12MP</td>\n",
       "      <td>12MP</td>\n",
       "      <td>A15 Bionic Chip Processor</td>\n",
       "    </tr>\n",
       "    <tr>\n",
       "      <th>2</th>\n",
       "      <td>APPLE iPhone 14 (Midnight, 128 GB)</td>\n",
       "      <td>57999</td>\n",
       "      <td>69900</td>\n",
       "      <td>4.6</td>\n",
       "      <td>264179</td>\n",
       "      <td>10321</td>\n",
       "      <td>128</td>\n",
       "      <td>15.49</td>\n",
       "      <td>12MP + 12MP</td>\n",
       "      <td>12MP</td>\n",
       "      <td>A15 Bionic Chip, 6 Core Processor Processor</td>\n",
       "    </tr>\n",
       "    <tr>\n",
       "      <th>3</th>\n",
       "      <td>APPLE iPhone 15 (Blue, 128 GB)</td>\n",
       "      <td>66999</td>\n",
       "      <td>79900</td>\n",
       "      <td>4.6</td>\n",
       "      <td>3229</td>\n",
       "      <td>242</td>\n",
       "      <td>128</td>\n",
       "      <td>15.49</td>\n",
       "      <td>48MP + 12MP</td>\n",
       "      <td>12MP</td>\n",
       "      <td>A16 Bionic Chip, 6 Core Processor Processor</td>\n",
       "    </tr>\n",
       "    <tr>\n",
       "      <th>4</th>\n",
       "      <td>APPLE iPhone 14 (Starlight, 128 GB)</td>\n",
       "      <td>57999</td>\n",
       "      <td>69900</td>\n",
       "      <td>4.6</td>\n",
       "      <td>264179</td>\n",
       "      <td>10321</td>\n",
       "      <td>128</td>\n",
       "      <td>15.49</td>\n",
       "      <td>12MP + 12MP</td>\n",
       "      <td>12MP</td>\n",
       "      <td>A15 Bionic Chip, 6 Core Processor Processor</td>\n",
       "    </tr>\n",
       "  </tbody>\n",
       "</table>\n",
       "</div>"
      ],
      "text/plain": [
       "                          Product_name  Price Actual_price  Stars Ratings  \\\n",
       "0     APPLE iPhone 14 (Purple, 128 GB)  57999        69900    4.6  264179   \n",
       "1  APPLE iPhone 13 (Starlight, 128 GB)  51999        59900    4.6  276095   \n",
       "2   APPLE iPhone 14 (Midnight, 128 GB)  57999        69900    4.6  264179   \n",
       "3       APPLE iPhone 15 (Blue, 128 GB)  66999        79900    4.6    3229   \n",
       "4  APPLE iPhone 14 (Starlight, 128 GB)  57999        69900    4.6  264179   \n",
       "\n",
       "  Reviews  Rom  Display   Back_camera Front_camera  \\\n",
       "0   10321  128    15.49  12MP + 12MP          12MP   \n",
       "1   13448  128    15.49  12MP + 12MP          12MP   \n",
       "2   10321  128    15.49  12MP + 12MP          12MP   \n",
       "3     242  128    15.49  48MP + 12MP          12MP   \n",
       "4   10321  128    15.49  12MP + 12MP          12MP   \n",
       "\n",
       "                                     Processor  \n",
       "0  A15 Bionic Chip, 6 Core Processor Processor  \n",
       "1                    A15 Bionic Chip Processor  \n",
       "2  A15 Bionic Chip, 6 Core Processor Processor  \n",
       "3  A16 Bionic Chip, 6 Core Processor Processor  \n",
       "4  A15 Bionic Chip, 6 Core Processor Processor  "
      ]
     },
     "execution_count": 17,
     "metadata": {},
     "output_type": "execute_result"
    }
   ],
   "source": [
    "df.head()"
   ]
  },
  {
   "cell_type": "code",
   "execution_count": 18,
   "id": "1765ce5f",
   "metadata": {},
   "outputs": [
    {
     "name": "stdout",
     "output_type": "stream",
     "text": [
      "<class 'pandas.core.frame.DataFrame'>\n",
      "Int64Index: 490 entries, 0 to 489\n",
      "Data columns (total 11 columns):\n",
      " #   Column        Non-Null Count  Dtype  \n",
      "---  ------        --------------  -----  \n",
      " 0   Product_name  490 non-null    object \n",
      " 1   Price         490 non-null    object \n",
      " 2   Actual_price  490 non-null    object \n",
      " 3   Stars         490 non-null    float64\n",
      " 4   Ratings       490 non-null    object \n",
      " 5   Reviews       490 non-null    object \n",
      " 6   Rom           490 non-null    int64  \n",
      " 7   Display       490 non-null    float64\n",
      " 8   Back_camera   490 non-null    object \n",
      " 9   Front_camera  490 non-null    object \n",
      " 10  Processor     490 non-null    object \n",
      "dtypes: float64(2), int64(1), object(8)\n",
      "memory usage: 45.9+ KB\n"
     ]
    }
   ],
   "source": [
    "df.info()"
   ]
  },
  {
   "cell_type": "code",
   "execution_count": 19,
   "id": "43fa6e51",
   "metadata": {},
   "outputs": [],
   "source": [
    "# converting to numeric columns\n",
    "df[comma_col] = df[comma_col].apply(pd.to_numeric, errors='coerce')"
   ]
  },
  {
   "cell_type": "code",
   "execution_count": 20,
   "id": "e0cc9173",
   "metadata": {
    "scrolled": true
   },
   "outputs": [
    {
     "name": "stdout",
     "output_type": "stream",
     "text": [
      "<class 'pandas.core.frame.DataFrame'>\n",
      "Int64Index: 490 entries, 0 to 489\n",
      "Data columns (total 11 columns):\n",
      " #   Column        Non-Null Count  Dtype  \n",
      "---  ------        --------------  -----  \n",
      " 0   Product_name  490 non-null    object \n",
      " 1   Price         490 non-null    int64  \n",
      " 2   Actual_price  490 non-null    int64  \n",
      " 3   Stars         490 non-null    float64\n",
      " 4   Ratings       490 non-null    int64  \n",
      " 5   Reviews       490 non-null    int64  \n",
      " 6   Rom           490 non-null    int64  \n",
      " 7   Display       490 non-null    float64\n",
      " 8   Back_camera   490 non-null    object \n",
      " 9   Front_camera  490 non-null    object \n",
      " 10  Processor     490 non-null    object \n",
      "dtypes: float64(2), int64(5), object(4)\n",
      "memory usage: 45.9+ KB\n"
     ]
    }
   ],
   "source": [
    "df.info()"
   ]
  },
  {
   "cell_type": "code",
   "execution_count": 21,
   "id": "1c351389",
   "metadata": {},
   "outputs": [],
   "source": [
    "df[\"Back_camera\"] = df[\"Back_camera\"].str.replace(\" Rear Camera\",\"\")"
   ]
  },
  {
   "cell_type": "code",
   "execution_count": 22,
   "id": "1063c0c5",
   "metadata": {},
   "outputs": [
    {
     "data": {
      "text/plain": [
       "12MP + 12MP            171\n",
       "12MP                   117\n",
       "12MP + 12MP + 12MP      87\n",
       "48MP + 12MP + 12MP      58\n",
       "8MP                     30\n",
       "48MP + 12MP             25\n",
       "5MP                      2\n",
       "Name: Back_camera, dtype: int64"
      ]
     },
     "execution_count": 22,
     "metadata": {},
     "output_type": "execute_result"
    }
   ],
   "source": [
    "df[\"Back_camera\"].value_counts()"
   ]
  },
  {
   "cell_type": "markdown",
   "id": "e921ebdd",
   "metadata": {},
   "source": [
    "### EDA"
   ]
  },
  {
   "cell_type": "code",
   "execution_count": 23,
   "id": "57017cac",
   "metadata": {},
   "outputs": [
    {
     "data": {
      "text/plain": [
       "APPLE iPhone 12 (Black, 128 GB)                   2\n",
       "APPLE iPhone 15 Pro Max (White Titanium, 1 TB)    2\n",
       "APPLE iPhone 12 (Black, 64 GB)                    2\n",
       "APPLE iPhone 14 (Starlight, 256 GB)               2\n",
       "APPLE iPhone 13 (Starlight, 256 GB)               2\n",
       "                                                 ..\n",
       "APPLE iPhone 14 Plus (Midnight, 512 GB)           1\n",
       "APPLE iPhone 12 (Red, 64 GB)                      1\n",
       "APPLE iPhone 11 (Purple, 64 GB)                   1\n",
       "APPLE iPhone SE 3rd Gen (Starlight, 128 GB)       1\n",
       "APPLE iPhone 6 (Space Grey, 16 GB)                1\n",
       "Name: Product_name, Length: 479, dtype: int64"
      ]
     },
     "execution_count": 23,
     "metadata": {},
     "output_type": "execute_result"
    }
   ],
   "source": [
    "# checking the count of products\n",
    "df[\"Product_name\"].value_counts()"
   ]
  },
  {
   "cell_type": "code",
   "execution_count": 24,
   "id": "efa36bb6",
   "metadata": {},
   "outputs": [
    {
     "data": {
      "text/plain": [
       "Text(0.5, 1.0, 'Distribution of Price')"
      ]
     },
     "execution_count": 24,
     "metadata": {},
     "output_type": "execute_result"
    },
    {
     "data": {
      "image/png": "[encoded data removed]",
      "text/plain": [
       "<Figure size 640x480 with 1 Axes>"
      ]
     },
     "metadata": {},
     "output_type": "display_data"
    }
   ],
   "source": [
    "plt.hist(df[\"Price\"])\n",
    "plt.xlabel(\"Price\")\n",
    "plt.ylabel(\"Count\")\n",
    "plt.title(\"Distribution of Price\")"
   ]
  },
  {
   "cell_type": "code",
   "execution_count": 25,
   "id": "a806ae8e",
   "metadata": {},
   "outputs": [
    {
     "data": {
      "text/plain": [
       "Text(0.5, 1.0, 'Distribution of Actual Price')"
      ]
     },
     "execution_count": 25,
     "metadata": {},
     "output_type": "execute_result"
    },
    {
     "data": {
      "image/png": "[encoded data removed]",
      "text/plain": [
       "<Figure size 640x480 with 1 Axes>"
      ]
     },
     "metadata": {},
     "output_type": "display_data"
    }
   ],
   "source": [
    "plt.hist(df[\"Actual_price\"])\n",
    "plt.xlabel(\"Actual Price\")\n",
    "plt.ylabel(\"Count\")\n",
    "plt.title(\"Distribution of Actual Price\")"
   ]
  },
  {
   "cell_type": "code",
   "execution_count": 26,
   "id": "a1ed35ec",
   "metadata": {},
   "outputs": [
    {
     "data": {
      "text/plain": [
       "Text(0.5, 1.0, 'Distribution of Stars')"
      ]
     },
     "execution_count": 26,
     "metadata": {},
     "output_type": "execute_result"
    },
    {
     "data": {
      "image/png": "[encoded data removed]",
      "text/plain": [
       "<Figure size 640x480 with 1 Axes>"
      ]
     },
     "metadata": {},
     "output_type": "display_data"
    }
   ],
   "source": [
    "plt.hist(df[\"Stars\"])\n",
    "plt.xlabel(\"Stars\")\n",
    "plt.ylabel(\"Count\")\n",
    "plt.title(\"Distribution of Stars\")"
   ]
  },
  {
   "cell_type": "code",
   "execution_count": 27,
   "id": "775b14aa",
   "metadata": {},
   "outputs": [
    {
     "data": {
      "text/plain": [
       "Text(0.5, 1.0, 'Distribution of Ratings')"
      ]
     },
     "execution_count": 27,
     "metadata": {},
     "output_type": "execute_result"
    },
    {
     "data": {
      "image/png": "[encoded data removed]",
      "text/plain": [
       "<Figure size 640x480 with 1 Axes>"
      ]
     },
     "metadata": {},
     "output_type": "display_data"
    }
   ],
   "source": [
    "plt.hist(df[\"Ratings\"])\n",
    "plt.xlabel(\"Ratings\")\n",
    "plt.ylabel(\"Count\")\n",
    "plt.title(\"Distribution of Ratings\")"
   ]
  },
  {
   "cell_type": "code",
   "execution_count": 28,
   "id": "62117a84",
   "metadata": {},
   "outputs": [
    {
     "data": {
      "text/plain": [
       "Text(0.5, 1.0, 'Distribution of Reviews')"
      ]
     },
     "execution_count": 28,
     "metadata": {},
     "output_type": "execute_result"
    },
    {
     "data": {
      "image/png": "[encoded data removed]",
      "text/plain": [
       "<Figure size 640x480 with 1 Axes>"
      ]
     },
     "metadata": {},
     "output_type": "display_data"
    }
   ],
   "source": [
    "plt.hist(df[\"Reviews\"])\n",
    "plt.xlabel(\"Reviews\")\n",
    "plt.ylabel(\"Count\")\n",
    "plt.title(\"Distribution of Reviews\")"
   ]
  },
  {
   "cell_type": "code",
   "execution_count": 29,
   "id": "510917e9",
   "metadata": {},
   "outputs": [
    {
     "data": {
      "text/plain": [
       "Text(0.5, 1.0, 'Distribution of Rom')"
      ]
     },
     "execution_count": 29,
     "metadata": {},
     "output_type": "execute_result"
    },
    {
     "data": {
      "image/png": "[encoded data removed]",
      "text/plain": [
       "<Figure size 640x480 with 1 Axes>"
      ]
     },
     "metadata": {},
     "output_type": "display_data"
    }
   ],
   "source": [
    "plt.hist(df[\"Rom\"])\n",
    "plt.xlabel(\"Rom\")\n",
    "plt.ylabel(\"Count\")\n",
    "plt.title(\"Distribution of Rom\")"
   ]
  },
  {
   "cell_type": "code",
   "execution_count": 30,
   "id": "71af12c0",
   "metadata": {},
   "outputs": [
    {
     "data": {
      "text/plain": [
       "Text(0.5, 1.0, 'Distribution of Display')"
      ]
     },
     "execution_count": 30,
     "metadata": {},
     "output_type": "execute_result"
    },
    {
     "data": {
      "image/png": "[encoded data removed]",
      "text/plain": [
       "<Figure size 640x480 with 1 Axes>"
      ]
     },
     "metadata": {},
     "output_type": "display_data"
    }
   ],
   "source": [
    "plt.hist(df[\"Display\"])\n",
    "plt.xlabel(\"Display\")\n",
    "plt.ylabel(\"Count\")\n",
    "plt.title(\"Distribution of Display\")"
   ]
  },
  {
   "cell_type": "code",
   "execution_count": 31,
   "id": "12dc5aa8",
   "metadata": {},
   "outputs": [
    {
     "data": {
      "image/png": "[encoded data removed]",
      "text/plain": [
       "<Figure size 640x480 with 1 Axes>"
      ]
     },
     "metadata": {},
     "output_type": "display_data"
    }
   ],
   "source": [
    "df[\"Back_camera\"].value_counts().plot(kind = \"bar\")\n",
    "plt.xlabel(\"Back Camera\")\n",
    "plt.ylabel(\"Number of back camera\")\n",
    "plt.title(\"Types of Camera\")\n",
    "plt.xticks(rotation = 60)\n",
    "plt.show()"
   ]
  },
  {
   "cell_type": "code",
   "execution_count": 32,
   "id": "5a6b81e7",
   "metadata": {},
   "outputs": [
    {
     "data": {
      "image/png": "[encoded data removed]",
      "text/plain": [
       "<Figure size 640x480 with 1 Axes>"
      ]
     },
     "metadata": {},
     "output_type": "display_data"
    }
   ],
   "source": [
    "df[\"Front_camera\"].value_counts().plot(kind = \"bar\")\n",
    "plt.xlabel(\"Front Camera\")\n",
    "plt.ylabel(\"Number of Front camera\")\n",
    "plt.title(\"Types of Camera\")\n",
    "plt.xticks(rotation = 0)\n",
    "plt.show()  "
   ]
  },
  {
   "cell_type": "code",
   "execution_count": 33,
   "id": "cc12efea",
   "metadata": {
    "scrolled": true
   },
   "outputs": [
    {
     "data": {
      "text/plain": [
       "A15 Bionic Chip Processor                                                                             75\n",
       "A14 Bionic Chip with Next Generation Neural Engine Processor                                          62\n",
       "A16 Bionic Chip, 6 Core Processor Processor                                                           57\n",
       "A15 Bionic Chip, 6 Core Processor Processor                                                           49\n",
       "A12 Bionic Chip Processor                                                                             48\n",
       "A13 Bionic Chip Processor                                                                             35\n",
       "A17 Pro Chip, 6 Core Processor Processor                                                              26\n",
       "Apple A10 Fusion 64-bit processor and Embedded M10 Motion Co-processor                                25\n",
       "A9 Chip with 64-bit Architecture and M9 Motion Co-processor                                           22\n",
       "A11 Bionic Chip with 64-bit Architecture, Neural Engine, Embedded M11 Motion Coprocessor Processor    22\n",
       "A13 Bionic Chip with 3rd Gen Neural Engine Processor                                                  18\n",
       "A8 Chip with 64-bit Architecture and M8 Motion Co-processor                                           12\n",
       "A6 Chip Processor                                                                                      9\n",
       "A10 Fusion Chip with 64-bit Architecture and Embedded M10 Motion Co-processor                          9\n",
       "Apple A9 64-bit processor and Embedded M9 Motion Co-processor                                          8\n",
       "Apple A8 64-bit processor and M8 Motion Co-processor                                                   6\n",
       "Apple A7 64-bit processor and M7 Motion Co-processor                                                   3\n",
       "Apple A9 64-bit processor and M9 Motion Co-processor                                                   2\n",
       "1 Year Manufacturer Warranty                                                                           2\n",
       "Name: Processor, dtype: int64"
      ]
     },
     "execution_count": 33,
     "metadata": {},
     "output_type": "execute_result"
    }
   ],
   "source": [
    "# checking the count of processors\n",
    "df[\"Processor\"].value_counts()"
   ]
  },
  {
   "cell_type": "code",
   "execution_count": 34,
   "id": "fb1b6a1b",
   "metadata": {
    "scrolled": true
   },
   "outputs": [
    {
     "name": "stdout",
     "output_type": "stream",
     "text": [
      "<class 'pandas.core.frame.DataFrame'>\n",
      "Int64Index: 490 entries, 0 to 489\n",
      "Data columns (total 11 columns):\n",
      " #   Column        Non-Null Count  Dtype  \n",
      "---  ------        --------------  -----  \n",
      " 0   Product_name  490 non-null    object \n",
      " 1   Price         490 non-null    int64  \n",
      " 2   Actual_price  490 non-null    int64  \n",
      " 3   Stars         490 non-null    float64\n",
      " 4   Ratings       490 non-null    int64  \n",
      " 5   Reviews       490 non-null    int64  \n",
      " 6   Rom           490 non-null    int64  \n",
      " 7   Display       490 non-null    float64\n",
      " 8   Back_camera   490 non-null    object \n",
      " 9   Front_camera  490 non-null    object \n",
      " 10  Processor     490 non-null    object \n",
      "dtypes: float64(2), int64(5), object(4)\n",
      "memory usage: 45.9+ KB\n"
     ]
    }
   ],
   "source": [
    "df.info()"
   ]
  },
  {
   "cell_type": "markdown",
   "id": "40b60e6c",
   "metadata": {},
   "source": [
    "#### Top 10 Highest Prices of iPhones."
   ]
  },
  {
   "cell_type": "code",
   "execution_count": 35,
   "id": "b1029a5e",
   "metadata": {
    "scrolled": true
   },
   "outputs": [
    {
     "data": {
      "text/html": [
       "<div>\n",
       "<style scoped>\n",
       "    .dataframe tbody tr th:only-of-type {\n",
       "        vertical-align: middle;\n",
       "    }\n",
       "\n",
       "    .dataframe tbody tr th {\n",
       "        vertical-align: top;\n",
       "    }\n",
       "\n",
       "    .dataframe thead th {\n",
       "        text-align: right;\n",
       "    }\n",
       "</style>\n",
       "<table border=\"1\" class=\"dataframe\">\n",
       "  <thead>\n",
       "    <tr style=\"text-align: right;\">\n",
       "      <th></th>\n",
       "      <th>Product_name</th>\n",
       "      <th>Price</th>\n",
       "    </tr>\n",
       "  </thead>\n",
       "  <tbody>\n",
       "    <tr>\n",
       "      <th>0</th>\n",
       "      <td>APPLE iPhone 15 Pro Max (Black Titanium, 1 TB)</td>\n",
       "      <td>196900.0</td>\n",
       "    </tr>\n",
       "    <tr>\n",
       "      <th>1</th>\n",
       "      <td>APPLE iPhone 15 Pro Max (White Titanium, 1 TB)</td>\n",
       "      <td>196900.0</td>\n",
       "    </tr>\n",
       "    <tr>\n",
       "      <th>2</th>\n",
       "      <td>APPLE iPhone 15 Pro (Black Titanium, 1 TB)</td>\n",
       "      <td>180990.0</td>\n",
       "    </tr>\n",
       "    <tr>\n",
       "      <th>3</th>\n",
       "      <td>APPLE iPhone 15 Pro (Blue Titanium, 1 TB)</td>\n",
       "      <td>180990.0</td>\n",
       "    </tr>\n",
       "    <tr>\n",
       "      <th>4</th>\n",
       "      <td>APPLE iPhone 15 Pro (White Titanium, 1 TB)</td>\n",
       "      <td>180990.0</td>\n",
       "    </tr>\n",
       "    <tr>\n",
       "      <th>5</th>\n",
       "      <td>APPLE iPhone 15 Pro (Natural Titanium, 1 TB)</td>\n",
       "      <td>180990.0</td>\n",
       "    </tr>\n",
       "    <tr>\n",
       "      <th>6</th>\n",
       "      <td>APPLE iPhone 13 Pro Max (Graphite, 1 TB)</td>\n",
       "      <td>179900.0</td>\n",
       "    </tr>\n",
       "    <tr>\n",
       "      <th>7</th>\n",
       "      <td>APPLE iPhone 13 Pro Max (Gold, 1 TB)</td>\n",
       "      <td>179900.0</td>\n",
       "    </tr>\n",
       "    <tr>\n",
       "      <th>8</th>\n",
       "      <td>APPLE iPhone 13 Pro Max (Alpine Green, 1 TB)</td>\n",
       "      <td>179900.0</td>\n",
       "    </tr>\n",
       "    <tr>\n",
       "      <th>9</th>\n",
       "      <td>APPLE iPhone 13 Pro Max (Sierra Blue, 1 TB)</td>\n",
       "      <td>179900.0</td>\n",
       "    </tr>\n",
       "  </tbody>\n",
       "</table>\n",
       "</div>"
      ],
      "text/plain": [
       "                                     Product_name     Price\n",
       "0  APPLE iPhone 15 Pro Max (Black Titanium, 1 TB)  196900.0\n",
       "1  APPLE iPhone 15 Pro Max (White Titanium, 1 TB)  196900.0\n",
       "2      APPLE iPhone 15 Pro (Black Titanium, 1 TB)  180990.0\n",
       "3       APPLE iPhone 15 Pro (Blue Titanium, 1 TB)  180990.0\n",
       "4      APPLE iPhone 15 Pro (White Titanium, 1 TB)  180990.0\n",
       "5    APPLE iPhone 15 Pro (Natural Titanium, 1 TB)  180990.0\n",
       "6        APPLE iPhone 13 Pro Max (Graphite, 1 TB)  179900.0\n",
       "7            APPLE iPhone 13 Pro Max (Gold, 1 TB)  179900.0\n",
       "8    APPLE iPhone 13 Pro Max (Alpine Green, 1 TB)  179900.0\n",
       "9     APPLE iPhone 13 Pro Max (Sierra Blue, 1 TB)  179900.0"
      ]
     },
     "execution_count": 35,
     "metadata": {},
     "output_type": "execute_result"
    }
   ],
   "source": [
    "df.groupby(\"Product_name\")[\"Price\"].mean().sort_values(ascending = False).reset_index().head(10)"
   ]
  },
  {
   "cell_type": "markdown",
   "id": "b36edf2c",
   "metadata": {},
   "source": [
    "#### Top 10 Lowest Prices of iPhones"
   ]
  },
  {
   "cell_type": "code",
   "execution_count": 36,
   "id": "a783d9bb",
   "metadata": {},
   "outputs": [
    {
     "data": {
      "text/html": [
       "<div>\n",
       "<style scoped>\n",
       "    .dataframe tbody tr th:only-of-type {\n",
       "        vertical-align: middle;\n",
       "    }\n",
       "\n",
       "    .dataframe tbody tr th {\n",
       "        vertical-align: top;\n",
       "    }\n",
       "\n",
       "    .dataframe thead th {\n",
       "        text-align: right;\n",
       "    }\n",
       "</style>\n",
       "<table border=\"1\" class=\"dataframe\">\n",
       "  <thead>\n",
       "    <tr style=\"text-align: right;\">\n",
       "      <th></th>\n",
       "      <th>Product_name</th>\n",
       "      <th>Price</th>\n",
       "    </tr>\n",
       "  </thead>\n",
       "  <tbody>\n",
       "    <tr>\n",
       "      <th>469</th>\n",
       "      <td>APPLE iPhone 6s (Gold, 32 GB)</td>\n",
       "      <td>29900.0</td>\n",
       "    </tr>\n",
       "    <tr>\n",
       "      <th>470</th>\n",
       "      <td>APPLE iPhone 6s (Silver, 32 GB)</td>\n",
       "      <td>29900.0</td>\n",
       "    </tr>\n",
       "    <tr>\n",
       "      <th>471</th>\n",
       "      <td>APPLE iPhone 6s (Space Grey, 32 GB)</td>\n",
       "      <td>29900.0</td>\n",
       "    </tr>\n",
       "    <tr>\n",
       "      <th>472</th>\n",
       "      <td>APPLE iPhone 5s (Silver, 16 GB)</td>\n",
       "      <td>25000.0</td>\n",
       "    </tr>\n",
       "    <tr>\n",
       "      <th>473</th>\n",
       "      <td>APPLE iPhone 5s (Space Grey, 16 GB)</td>\n",
       "      <td>25000.0</td>\n",
       "    </tr>\n",
       "    <tr>\n",
       "      <th>474</th>\n",
       "      <td>APPLE IPhone 4 (Black, 8 GB)</td>\n",
       "      <td>22900.0</td>\n",
       "    </tr>\n",
       "    <tr>\n",
       "      <th>475</th>\n",
       "      <td>APPLE iPhone 5C (Blue, 8 GB)</td>\n",
       "      <td>14999.0</td>\n",
       "    </tr>\n",
       "    <tr>\n",
       "      <th>476</th>\n",
       "      <td>APPLE iPhone 5s (Gold, 16 GB)</td>\n",
       "      <td>14999.0</td>\n",
       "    </tr>\n",
       "    <tr>\n",
       "      <th>477</th>\n",
       "      <td>APPLE iPhone 5C (White, 8 GB)</td>\n",
       "      <td>14999.0</td>\n",
       "    </tr>\n",
       "    <tr>\n",
       "      <th>478</th>\n",
       "      <td>APPLE IPhone 4 (White, 8 GB)</td>\n",
       "      <td>13999.0</td>\n",
       "    </tr>\n",
       "  </tbody>\n",
       "</table>\n",
       "</div>"
      ],
      "text/plain": [
       "                            Product_name    Price\n",
       "469        APPLE iPhone 6s (Gold, 32 GB)  29900.0\n",
       "470      APPLE iPhone 6s (Silver, 32 GB)  29900.0\n",
       "471  APPLE iPhone 6s (Space Grey, 32 GB)  29900.0\n",
       "472      APPLE iPhone 5s (Silver, 16 GB)  25000.0\n",
       "473  APPLE iPhone 5s (Space Grey, 16 GB)  25000.0\n",
       "474         APPLE IPhone 4 (Black, 8 GB)  22900.0\n",
       "475         APPLE iPhone 5C (Blue, 8 GB)  14999.0\n",
       "476        APPLE iPhone 5s (Gold, 16 GB)  14999.0\n",
       "477        APPLE iPhone 5C (White, 8 GB)  14999.0\n",
       "478         APPLE IPhone 4 (White, 8 GB)  13999.0"
      ]
     },
     "execution_count": 36,
     "metadata": {},
     "output_type": "execute_result"
    }
   ],
   "source": [
    "df.groupby(\"Product_name\")[\"Price\"].mean().sort_values(ascending = False).reset_index().tail(10)"
   ]
  },
  {
   "cell_type": "markdown",
   "id": "d49b5cf0",
   "metadata": {},
   "source": [
    "#### Top 10 Highest Actual Prices of iPhones"
   ]
  },
  {
   "cell_type": "code",
   "execution_count": 37,
   "id": "20993be2",
   "metadata": {
    "scrolled": true
   },
   "outputs": [
    {
     "data": {
      "text/html": [
       "<div>\n",
       "<style scoped>\n",
       "    .dataframe tbody tr th:only-of-type {\n",
       "        vertical-align: middle;\n",
       "    }\n",
       "\n",
       "    .dataframe tbody tr th {\n",
       "        vertical-align: top;\n",
       "    }\n",
       "\n",
       "    .dataframe thead th {\n",
       "        text-align: right;\n",
       "    }\n",
       "</style>\n",
       "<table border=\"1\" class=\"dataframe\">\n",
       "  <thead>\n",
       "    <tr style=\"text-align: right;\">\n",
       "      <th></th>\n",
       "      <th>Product_name</th>\n",
       "      <th>Actual_price</th>\n",
       "    </tr>\n",
       "  </thead>\n",
       "  <tbody>\n",
       "    <tr>\n",
       "      <th>0</th>\n",
       "      <td>APPLE iPhone 15 Pro Max (Black Titanium, 1 TB)</td>\n",
       "      <td>199900.0</td>\n",
       "    </tr>\n",
       "    <tr>\n",
       "      <th>1</th>\n",
       "      <td>APPLE iPhone 15 Pro Max (White Titanium, 1 TB)</td>\n",
       "      <td>199900.0</td>\n",
       "    </tr>\n",
       "    <tr>\n",
       "      <th>2</th>\n",
       "      <td>APPLE iPhone 14 Pro Max (Silver, 1 TB)</td>\n",
       "      <td>184900.0</td>\n",
       "    </tr>\n",
       "    <tr>\n",
       "      <th>3</th>\n",
       "      <td>APPLE iPhone 14 Pro Max (Gold, 1 TB)</td>\n",
       "      <td>184900.0</td>\n",
       "    </tr>\n",
       "    <tr>\n",
       "      <th>4</th>\n",
       "      <td>APPLE iPhone 14 Pro Max (Space Black, 1 TB)</td>\n",
       "      <td>184900.0</td>\n",
       "    </tr>\n",
       "    <tr>\n",
       "      <th>5</th>\n",
       "      <td>APPLE iPhone 15 Pro (Black Titanium, 1 TB)</td>\n",
       "      <td>184900.0</td>\n",
       "    </tr>\n",
       "    <tr>\n",
       "      <th>6</th>\n",
       "      <td>APPLE iPhone 15 Pro (Blue Titanium, 1 TB)</td>\n",
       "      <td>184900.0</td>\n",
       "    </tr>\n",
       "    <tr>\n",
       "      <th>7</th>\n",
       "      <td>APPLE iPhone 15 Pro (Natural Titanium, 1 TB)</td>\n",
       "      <td>184900.0</td>\n",
       "    </tr>\n",
       "    <tr>\n",
       "      <th>8</th>\n",
       "      <td>APPLE iPhone 15 Pro (White Titanium, 1 TB)</td>\n",
       "      <td>184900.0</td>\n",
       "    </tr>\n",
       "    <tr>\n",
       "      <th>9</th>\n",
       "      <td>APPLE iPhone 14 Pro Max (Deep Purple, 1 TB)</td>\n",
       "      <td>184900.0</td>\n",
       "    </tr>\n",
       "  </tbody>\n",
       "</table>\n",
       "</div>"
      ],
      "text/plain": [
       "                                     Product_name  Actual_price\n",
       "0  APPLE iPhone 15 Pro Max (Black Titanium, 1 TB)      199900.0\n",
       "1  APPLE iPhone 15 Pro Max (White Titanium, 1 TB)      199900.0\n",
       "2          APPLE iPhone 14 Pro Max (Silver, 1 TB)      184900.0\n",
       "3            APPLE iPhone 14 Pro Max (Gold, 1 TB)      184900.0\n",
       "4     APPLE iPhone 14 Pro Max (Space Black, 1 TB)      184900.0\n",
       "5      APPLE iPhone 15 Pro (Black Titanium, 1 TB)      184900.0\n",
       "6       APPLE iPhone 15 Pro (Blue Titanium, 1 TB)      184900.0\n",
       "7    APPLE iPhone 15 Pro (Natural Titanium, 1 TB)      184900.0\n",
       "8      APPLE iPhone 15 Pro (White Titanium, 1 TB)      184900.0\n",
       "9     APPLE iPhone 14 Pro Max (Deep Purple, 1 TB)      184900.0"
      ]
     },
     "execution_count": 37,
     "metadata": {},
     "output_type": "execute_result"
    }
   ],
   "source": [
    "df.groupby(\"Product_name\")[\"Actual_price\"].mean().sort_values(ascending = False).reset_index().head(10)"
   ]
  },
  {
   "cell_type": "markdown",
   "id": "12d92d86",
   "metadata": {},
   "source": [
    "#### Top 10 iphones with the highest Stars "
   ]
  },
  {
   "cell_type": "code",
   "execution_count": 38,
   "id": "61a9b1ec",
   "metadata": {
    "scrolled": true
   },
   "outputs": [
    {
     "data": {
      "text/html": [
       "<div>\n",
       "<style scoped>\n",
       "    .dataframe tbody tr th:only-of-type {\n",
       "        vertical-align: middle;\n",
       "    }\n",
       "\n",
       "    .dataframe tbody tr th {\n",
       "        vertical-align: top;\n",
       "    }\n",
       "\n",
       "    .dataframe thead th {\n",
       "        text-align: right;\n",
       "    }\n",
       "</style>\n",
       "<table border=\"1\" class=\"dataframe\">\n",
       "  <thead>\n",
       "    <tr style=\"text-align: right;\">\n",
       "      <th></th>\n",
       "      <th>Product_name</th>\n",
       "      <th>Stars</th>\n",
       "    </tr>\n",
       "  </thead>\n",
       "  <tbody>\n",
       "    <tr>\n",
       "      <th>0</th>\n",
       "      <td>APPLE iPhone 7 Plus (PRODUCT) (Red, 256 GB)</td>\n",
       "      <td>5.0</td>\n",
       "    </tr>\n",
       "    <tr>\n",
       "      <th>1</th>\n",
       "      <td>APPLE iPhone 15 Pro (Blue Titanium, 256 GB)</td>\n",
       "      <td>4.7</td>\n",
       "    </tr>\n",
       "    <tr>\n",
       "      <th>2</th>\n",
       "      <td>APPLE iPhone 15 Pro Max (Black Titanium, 256 GB)</td>\n",
       "      <td>4.7</td>\n",
       "    </tr>\n",
       "    <tr>\n",
       "      <th>3</th>\n",
       "      <td>APPLE iPhone 15 Pro (Natural Titanium, 1 TB)</td>\n",
       "      <td>4.7</td>\n",
       "    </tr>\n",
       "    <tr>\n",
       "      <th>4</th>\n",
       "      <td>APPLE iPhone 15 Pro (Natural Titanium, 128 GB)</td>\n",
       "      <td>4.7</td>\n",
       "    </tr>\n",
       "    <tr>\n",
       "      <th>5</th>\n",
       "      <td>APPLE iPhone 15 Pro (Natural Titanium, 256 GB)</td>\n",
       "      <td>4.7</td>\n",
       "    </tr>\n",
       "    <tr>\n",
       "      <th>6</th>\n",
       "      <td>APPLE iPhone 15 Pro (Natural Titanium, 512 GB)</td>\n",
       "      <td>4.7</td>\n",
       "    </tr>\n",
       "    <tr>\n",
       "      <th>7</th>\n",
       "      <td>APPLE iPhone 15 Pro (White Titanium, 1 TB)</td>\n",
       "      <td>4.7</td>\n",
       "    </tr>\n",
       "    <tr>\n",
       "      <th>8</th>\n",
       "      <td>APPLE iPhone 15 Pro (White Titanium, 128 GB)</td>\n",
       "      <td>4.7</td>\n",
       "    </tr>\n",
       "    <tr>\n",
       "      <th>9</th>\n",
       "      <td>APPLE iPhone 15 Pro (White Titanium, 256 GB)</td>\n",
       "      <td>4.7</td>\n",
       "    </tr>\n",
       "  </tbody>\n",
       "</table>\n",
       "</div>"
      ],
      "text/plain": [
       "                                       Product_name  Stars\n",
       "0       APPLE iPhone 7 Plus (PRODUCT) (Red, 256 GB)    5.0\n",
       "1       APPLE iPhone 15 Pro (Blue Titanium, 256 GB)    4.7\n",
       "2  APPLE iPhone 15 Pro Max (Black Titanium, 256 GB)    4.7\n",
       "3      APPLE iPhone 15 Pro (Natural Titanium, 1 TB)    4.7\n",
       "4    APPLE iPhone 15 Pro (Natural Titanium, 128 GB)    4.7\n",
       "5    APPLE iPhone 15 Pro (Natural Titanium, 256 GB)    4.7\n",
       "6    APPLE iPhone 15 Pro (Natural Titanium, 512 GB)    4.7\n",
       "7        APPLE iPhone 15 Pro (White Titanium, 1 TB)    4.7\n",
       "8      APPLE iPhone 15 Pro (White Titanium, 128 GB)    4.7\n",
       "9      APPLE iPhone 15 Pro (White Titanium, 256 GB)    4.7"
      ]
     },
     "execution_count": 38,
     "metadata": {},
     "output_type": "execute_result"
    }
   ],
   "source": [
    "df.groupby(\"Product_name\")[\"Stars\"].mean().sort_values(ascending = False).reset_index().head(10)"
   ]
  },
  {
   "cell_type": "markdown",
   "id": "5df1084a",
   "metadata": {},
   "source": [
    "APPLE iPhone 7 Plus (PRODUCT) (Red, 256 GB) has the highest rating of 5.0"
   ]
  },
  {
   "cell_type": "markdown",
   "id": "faee3a8d",
   "metadata": {},
   "source": [
    "#### Top 10 iphones with the Least Stars"
   ]
  },
  {
   "cell_type": "code",
   "execution_count": 39,
   "id": "d01c5173",
   "metadata": {},
   "outputs": [
    {
     "data": {
      "text/html": [
       "<div>\n",
       "<style scoped>\n",
       "    .dataframe tbody tr th:only-of-type {\n",
       "        vertical-align: middle;\n",
       "    }\n",
       "\n",
       "    .dataframe tbody tr th {\n",
       "        vertical-align: top;\n",
       "    }\n",
       "\n",
       "    .dataframe thead th {\n",
       "        text-align: right;\n",
       "    }\n",
       "</style>\n",
       "<table border=\"1\" class=\"dataframe\">\n",
       "  <thead>\n",
       "    <tr style=\"text-align: right;\">\n",
       "      <th></th>\n",
       "      <th>Product_name</th>\n",
       "      <th>Stars</th>\n",
       "    </tr>\n",
       "  </thead>\n",
       "  <tbody>\n",
       "    <tr>\n",
       "      <th>469</th>\n",
       "      <td>APPLE IPhone 4 (Black, 8 GB)</td>\n",
       "      <td>4.1</td>\n",
       "    </tr>\n",
       "    <tr>\n",
       "      <th>470</th>\n",
       "      <td>APPLE iPhone 5C (White, 8 GB)</td>\n",
       "      <td>3.9</td>\n",
       "    </tr>\n",
       "    <tr>\n",
       "      <th>471</th>\n",
       "      <td>APPLE iPhone 5C (White, 16 GB)</td>\n",
       "      <td>3.9</td>\n",
       "    </tr>\n",
       "    <tr>\n",
       "      <th>472</th>\n",
       "      <td>APPLE iPhone 5C (Pink, 8 GB)</td>\n",
       "      <td>3.9</td>\n",
       "    </tr>\n",
       "    <tr>\n",
       "      <th>473</th>\n",
       "      <td>APPLE iPhone 5C (Green, 8 GB)</td>\n",
       "      <td>3.9</td>\n",
       "    </tr>\n",
       "    <tr>\n",
       "      <th>474</th>\n",
       "      <td>APPLE iPhone 5C (Green, 16 GB)</td>\n",
       "      <td>3.9</td>\n",
       "    </tr>\n",
       "    <tr>\n",
       "      <th>475</th>\n",
       "      <td>APPLE iPhone 5C (Blue, 8 GB)</td>\n",
       "      <td>3.9</td>\n",
       "    </tr>\n",
       "    <tr>\n",
       "      <th>476</th>\n",
       "      <td>APPLE iPhone 5C (Blue, 16 GB)</td>\n",
       "      <td>3.9</td>\n",
       "    </tr>\n",
       "    <tr>\n",
       "      <th>477</th>\n",
       "      <td>APPLE iPhone 5C (Yellow, 8 GB)</td>\n",
       "      <td>3.9</td>\n",
       "    </tr>\n",
       "    <tr>\n",
       "      <th>478</th>\n",
       "      <td>APPLE iPhone 5C (White, 32 GB)</td>\n",
       "      <td>3.9</td>\n",
       "    </tr>\n",
       "  </tbody>\n",
       "</table>\n",
       "</div>"
      ],
      "text/plain": [
       "                       Product_name  Stars\n",
       "469    APPLE IPhone 4 (Black, 8 GB)    4.1\n",
       "470   APPLE iPhone 5C (White, 8 GB)    3.9\n",
       "471  APPLE iPhone 5C (White, 16 GB)    3.9\n",
       "472    APPLE iPhone 5C (Pink, 8 GB)    3.9\n",
       "473   APPLE iPhone 5C (Green, 8 GB)    3.9\n",
       "474  APPLE iPhone 5C (Green, 16 GB)    3.9\n",
       "475    APPLE iPhone 5C (Blue, 8 GB)    3.9\n",
       "476   APPLE iPhone 5C (Blue, 16 GB)    3.9\n",
       "477  APPLE iPhone 5C (Yellow, 8 GB)    3.9\n",
       "478  APPLE iPhone 5C (White, 32 GB)    3.9"
      ]
     },
     "execution_count": 39,
     "metadata": {},
     "output_type": "execute_result"
    }
   ],
   "source": [
    "df.groupby(\"Product_name\")[\"Stars\"].mean().sort_values(ascending = False).reset_index().tail(10)"
   ]
  },
  {
   "cell_type": "markdown",
   "id": "22e0e5ae",
   "metadata": {},
   "source": [
    "#### Top 10 iphones with the highest Ratings"
   ]
  },
  {
   "cell_type": "code",
   "execution_count": 40,
   "id": "e2463f9c",
   "metadata": {},
   "outputs": [
    {
     "data": {
      "text/html": [
       "<div>\n",
       "<style scoped>\n",
       "    .dataframe tbody tr th:only-of-type {\n",
       "        vertical-align: middle;\n",
       "    }\n",
       "\n",
       "    .dataframe tbody tr th {\n",
       "        vertical-align: top;\n",
       "    }\n",
       "\n",
       "    .dataframe thead th {\n",
       "        text-align: right;\n",
       "    }\n",
       "</style>\n",
       "<table border=\"1\" class=\"dataframe\">\n",
       "  <thead>\n",
       "    <tr style=\"text-align: right;\">\n",
       "      <th></th>\n",
       "      <th>Product_name</th>\n",
       "      <th>Ratings</th>\n",
       "    </tr>\n",
       "  </thead>\n",
       "  <tbody>\n",
       "    <tr>\n",
       "      <th>0</th>\n",
       "      <td>APPLE iPhone 13 ((PRODUCT)RED, 128 GB)</td>\n",
       "      <td>276095.0</td>\n",
       "    </tr>\n",
       "    <tr>\n",
       "      <th>1</th>\n",
       "      <td>APPLE iPhone 13 (Green, 512 GB)</td>\n",
       "      <td>276095.0</td>\n",
       "    </tr>\n",
       "    <tr>\n",
       "      <th>2</th>\n",
       "      <td>APPLE iPhone 13 (Starlight, 512 GB)</td>\n",
       "      <td>276095.0</td>\n",
       "    </tr>\n",
       "    <tr>\n",
       "      <th>3</th>\n",
       "      <td>APPLE iPhone 13 (Starlight, 256 GB)</td>\n",
       "      <td>276095.0</td>\n",
       "    </tr>\n",
       "    <tr>\n",
       "      <th>4</th>\n",
       "      <td>APPLE iPhone 13 (Starlight, 128 GB)</td>\n",
       "      <td>276095.0</td>\n",
       "    </tr>\n",
       "    <tr>\n",
       "      <th>5</th>\n",
       "      <td>APPLE iPhone 13 (Pink, 512 GB)</td>\n",
       "      <td>276095.0</td>\n",
       "    </tr>\n",
       "    <tr>\n",
       "      <th>6</th>\n",
       "      <td>APPLE iPhone 13 (Pink, 128 GB)</td>\n",
       "      <td>276095.0</td>\n",
       "    </tr>\n",
       "    <tr>\n",
       "      <th>7</th>\n",
       "      <td>APPLE iPhone 13 (Midnight, 512 GB)</td>\n",
       "      <td>276095.0</td>\n",
       "    </tr>\n",
       "    <tr>\n",
       "      <th>8</th>\n",
       "      <td>APPLE iPhone 13 (Midnight, 256 GB)</td>\n",
       "      <td>276095.0</td>\n",
       "    </tr>\n",
       "    <tr>\n",
       "      <th>9</th>\n",
       "      <td>APPLE iPhone 13 (Pink, 256 GB)</td>\n",
       "      <td>276095.0</td>\n",
       "    </tr>\n",
       "  </tbody>\n",
       "</table>\n",
       "</div>"
      ],
      "text/plain": [
       "                             Product_name   Ratings\n",
       "0  APPLE iPhone 13 ((PRODUCT)RED, 128 GB)  276095.0\n",
       "1         APPLE iPhone 13 (Green, 512 GB)  276095.0\n",
       "2     APPLE iPhone 13 (Starlight, 512 GB)  276095.0\n",
       "3     APPLE iPhone 13 (Starlight, 256 GB)  276095.0\n",
       "4     APPLE iPhone 13 (Starlight, 128 GB)  276095.0\n",
       "5          APPLE iPhone 13 (Pink, 512 GB)  276095.0\n",
       "6          APPLE iPhone 13 (Pink, 128 GB)  276095.0\n",
       "7      APPLE iPhone 13 (Midnight, 512 GB)  276095.0\n",
       "8      APPLE iPhone 13 (Midnight, 256 GB)  276095.0\n",
       "9          APPLE iPhone 13 (Pink, 256 GB)  276095.0"
      ]
     },
     "execution_count": 40,
     "metadata": {},
     "output_type": "execute_result"
    }
   ],
   "source": [
    "df.groupby(\"Product_name\")[\"Ratings\"].mean().sort_values(ascending = False).reset_index().head(10)"
   ]
  },
  {
   "cell_type": "markdown",
   "id": "2f581715",
   "metadata": {},
   "source": [
    "#### Top 10 iphones with the Least Ratings"
   ]
  },
  {
   "cell_type": "code",
   "execution_count": 41,
   "id": "a395679d",
   "metadata": {},
   "outputs": [
    {
     "data": {
      "text/html": [
       "<div>\n",
       "<style scoped>\n",
       "    .dataframe tbody tr th:only-of-type {\n",
       "        vertical-align: middle;\n",
       "    }\n",
       "\n",
       "    .dataframe tbody tr th {\n",
       "        vertical-align: top;\n",
       "    }\n",
       "\n",
       "    .dataframe thead th {\n",
       "        text-align: right;\n",
       "    }\n",
       "</style>\n",
       "<table border=\"1\" class=\"dataframe\">\n",
       "  <thead>\n",
       "    <tr style=\"text-align: right;\">\n",
       "      <th></th>\n",
       "      <th>Product_name</th>\n",
       "      <th>Ratings</th>\n",
       "    </tr>\n",
       "  </thead>\n",
       "  <tbody>\n",
       "    <tr>\n",
       "      <th>469</th>\n",
       "      <td>APPLE iPhone 15 Pro Max (Natural Titanium, 256...</td>\n",
       "      <td>296.0</td>\n",
       "    </tr>\n",
       "    <tr>\n",
       "      <th>470</th>\n",
       "      <td>APPLE iPhone 15 Pro Max (Black Titanium, 512 GB)</td>\n",
       "      <td>296.0</td>\n",
       "    </tr>\n",
       "    <tr>\n",
       "      <th>471</th>\n",
       "      <td>APPLE iPhone 15 Pro Max (Blue Titanium, 256 GB)</td>\n",
       "      <td>296.0</td>\n",
       "    </tr>\n",
       "    <tr>\n",
       "      <th>472</th>\n",
       "      <td>APPLE iPhone 8 Plus (PRODUCT)RED (Red, 256 GB)</td>\n",
       "      <td>267.0</td>\n",
       "    </tr>\n",
       "    <tr>\n",
       "      <th>473</th>\n",
       "      <td>APPLE iPhone 8 Plus (PRODUCT)RED (Red, 64 GB)</td>\n",
       "      <td>267.0</td>\n",
       "    </tr>\n",
       "    <tr>\n",
       "      <th>474</th>\n",
       "      <td>APPLE iPhone 8 (PRODUCT)RED (Red, 256 GB)</td>\n",
       "      <td>113.0</td>\n",
       "    </tr>\n",
       "    <tr>\n",
       "      <th>475</th>\n",
       "      <td>APPLE iPhone 8 (PRODUCT)RED (Red, 64 GB)</td>\n",
       "      <td>113.0</td>\n",
       "    </tr>\n",
       "    <tr>\n",
       "      <th>476</th>\n",
       "      <td>APPLE iPhone 7 (PRODUCT) (Red, 256 GB)</td>\n",
       "      <td>29.0</td>\n",
       "    </tr>\n",
       "    <tr>\n",
       "      <th>477</th>\n",
       "      <td>APPLE iPhone 6 Plus (Gold, 128 GB)</td>\n",
       "      <td>20.0</td>\n",
       "    </tr>\n",
       "    <tr>\n",
       "      <th>478</th>\n",
       "      <td>APPLE iPhone 7 Plus (PRODUCT) (Red, 256 GB)</td>\n",
       "      <td>3.0</td>\n",
       "    </tr>\n",
       "  </tbody>\n",
       "</table>\n",
       "</div>"
      ],
      "text/plain": [
       "                                          Product_name  Ratings\n",
       "469  APPLE iPhone 15 Pro Max (Natural Titanium, 256...    296.0\n",
       "470   APPLE iPhone 15 Pro Max (Black Titanium, 512 GB)    296.0\n",
       "471    APPLE iPhone 15 Pro Max (Blue Titanium, 256 GB)    296.0\n",
       "472     APPLE iPhone 8 Plus (PRODUCT)RED (Red, 256 GB)    267.0\n",
       "473      APPLE iPhone 8 Plus (PRODUCT)RED (Red, 64 GB)    267.0\n",
       "474          APPLE iPhone 8 (PRODUCT)RED (Red, 256 GB)    113.0\n",
       "475           APPLE iPhone 8 (PRODUCT)RED (Red, 64 GB)    113.0\n",
       "476             APPLE iPhone 7 (PRODUCT) (Red, 256 GB)     29.0\n",
       "477                 APPLE iPhone 6 Plus (Gold, 128 GB)     20.0\n",
       "478        APPLE iPhone 7 Plus (PRODUCT) (Red, 256 GB)      3.0"
      ]
     },
     "execution_count": 41,
     "metadata": {},
     "output_type": "execute_result"
    }
   ],
   "source": [
    "df.groupby(\"Product_name\")[\"Ratings\"].mean().sort_values(ascending = False).reset_index().tail(10)"
   ]
  },
  {
   "cell_type": "markdown",
   "id": "f40a3867",
   "metadata": {},
   "source": [
    "#### Top 10 iphones with the highest Reviews"
   ]
  },
  {
   "cell_type": "code",
   "execution_count": 42,
   "id": "5d559a5d",
   "metadata": {},
   "outputs": [
    {
     "data": {
      "text/html": [
       "<div>\n",
       "<style scoped>\n",
       "    .dataframe tbody tr th:only-of-type {\n",
       "        vertical-align: middle;\n",
       "    }\n",
       "\n",
       "    .dataframe tbody tr th {\n",
       "        vertical-align: top;\n",
       "    }\n",
       "\n",
       "    .dataframe thead th {\n",
       "        text-align: right;\n",
       "    }\n",
       "</style>\n",
       "<table border=\"1\" class=\"dataframe\">\n",
       "  <thead>\n",
       "    <tr style=\"text-align: right;\">\n",
       "      <th></th>\n",
       "      <th>Product_name</th>\n",
       "      <th>Reviews</th>\n",
       "    </tr>\n",
       "  </thead>\n",
       "  <tbody>\n",
       "    <tr>\n",
       "      <th>0</th>\n",
       "      <td>APPLE iPhone 6 (Silver, 128 GB)</td>\n",
       "      <td>16198.0</td>\n",
       "    </tr>\n",
       "    <tr>\n",
       "      <th>1</th>\n",
       "      <td>APPLE iPhone 6 (Space Grey, 32 GB)</td>\n",
       "      <td>16198.0</td>\n",
       "    </tr>\n",
       "    <tr>\n",
       "      <th>2</th>\n",
       "      <td>APPLE iPhone 6 (Silver, 64 GB)</td>\n",
       "      <td>16198.0</td>\n",
       "    </tr>\n",
       "    <tr>\n",
       "      <th>3</th>\n",
       "      <td>APPLE iPhone 6 (Silver, 16 GB)</td>\n",
       "      <td>16198.0</td>\n",
       "    </tr>\n",
       "    <tr>\n",
       "      <th>4</th>\n",
       "      <td>APPLE iPhone 6 (Space Grey, 64 GB)</td>\n",
       "      <td>16198.0</td>\n",
       "    </tr>\n",
       "    <tr>\n",
       "      <th>5</th>\n",
       "      <td>APPLE iPhone 6 (Grey, 128 GB)</td>\n",
       "      <td>16198.0</td>\n",
       "    </tr>\n",
       "    <tr>\n",
       "      <th>6</th>\n",
       "      <td>APPLE iPhone 6 (Gold, 64 GB)</td>\n",
       "      <td>16198.0</td>\n",
       "    </tr>\n",
       "    <tr>\n",
       "      <th>7</th>\n",
       "      <td>APPLE iPhone 6 (Gold, 32 GB)</td>\n",
       "      <td>16198.0</td>\n",
       "    </tr>\n",
       "    <tr>\n",
       "      <th>8</th>\n",
       "      <td>APPLE iPhone 6 (Gold, 128 GB)</td>\n",
       "      <td>16198.0</td>\n",
       "    </tr>\n",
       "    <tr>\n",
       "      <th>9</th>\n",
       "      <td>APPLE iPhone 6 (Space Grey, 16 GB)</td>\n",
       "      <td>16198.0</td>\n",
       "    </tr>\n",
       "  </tbody>\n",
       "</table>\n",
       "</div>"
      ],
      "text/plain": [
       "                         Product_name  Reviews\n",
       "0     APPLE iPhone 6 (Silver, 128 GB)  16198.0\n",
       "1  APPLE iPhone 6 (Space Grey, 32 GB)  16198.0\n",
       "2      APPLE iPhone 6 (Silver, 64 GB)  16198.0\n",
       "3      APPLE iPhone 6 (Silver, 16 GB)  16198.0\n",
       "4  APPLE iPhone 6 (Space Grey, 64 GB)  16198.0\n",
       "5       APPLE iPhone 6 (Grey, 128 GB)  16198.0\n",
       "6        APPLE iPhone 6 (Gold, 64 GB)  16198.0\n",
       "7        APPLE iPhone 6 (Gold, 32 GB)  16198.0\n",
       "8       APPLE iPhone 6 (Gold, 128 GB)  16198.0\n",
       "9  APPLE iPhone 6 (Space Grey, 16 GB)  16198.0"
      ]
     },
     "execution_count": 42,
     "metadata": {},
     "output_type": "execute_result"
    }
   ],
   "source": [
    "df.groupby(\"Product_name\")[\"Reviews\"].mean().sort_values(ascending = False).reset_index().head(10)"
   ]
  },
  {
   "cell_type": "markdown",
   "id": "dcbd9076",
   "metadata": {},
   "source": [
    "#### Top 10 iphones with the least Reviews"
   ]
  },
  {
   "cell_type": "code",
   "execution_count": 43,
   "id": "ba0aa3d5",
   "metadata": {},
   "outputs": [
    {
     "data": {
      "text/html": [
       "<div>\n",
       "<style scoped>\n",
       "    .dataframe tbody tr th:only-of-type {\n",
       "        vertical-align: middle;\n",
       "    }\n",
       "\n",
       "    .dataframe tbody tr th {\n",
       "        vertical-align: top;\n",
       "    }\n",
       "\n",
       "    .dataframe thead th {\n",
       "        text-align: right;\n",
       "    }\n",
       "</style>\n",
       "<table border=\"1\" class=\"dataframe\">\n",
       "  <thead>\n",
       "    <tr style=\"text-align: right;\">\n",
       "      <th></th>\n",
       "      <th>Product_name</th>\n",
       "      <th>Reviews</th>\n",
       "    </tr>\n",
       "  </thead>\n",
       "  <tbody>\n",
       "    <tr>\n",
       "      <th>469</th>\n",
       "      <td>APPLE iPhone 15 Pro Max (Black Titanium, 1 TB)</td>\n",
       "      <td>27.0</td>\n",
       "    </tr>\n",
       "    <tr>\n",
       "      <th>470</th>\n",
       "      <td>APPLE iPhone 15 Pro Max (White Titanium, 256 GB)</td>\n",
       "      <td>27.0</td>\n",
       "    </tr>\n",
       "    <tr>\n",
       "      <th>471</th>\n",
       "      <td>APPLE iPhone 15 Pro Max (White Titanium, 512 GB)</td>\n",
       "      <td>27.0</td>\n",
       "    </tr>\n",
       "    <tr>\n",
       "      <th>472</th>\n",
       "      <td>APPLE iPhone 8 Plus (PRODUCT)RED (Red, 64 GB)</td>\n",
       "      <td>23.0</td>\n",
       "    </tr>\n",
       "    <tr>\n",
       "      <th>473</th>\n",
       "      <td>APPLE iPhone 8 Plus (PRODUCT)RED (Red, 256 GB)</td>\n",
       "      <td>23.0</td>\n",
       "    </tr>\n",
       "    <tr>\n",
       "      <th>474</th>\n",
       "      <td>APPLE iPhone 8 (PRODUCT)RED (Red, 64 GB)</td>\n",
       "      <td>10.0</td>\n",
       "    </tr>\n",
       "    <tr>\n",
       "      <th>475</th>\n",
       "      <td>APPLE iPhone 8 (PRODUCT)RED (Red, 256 GB)</td>\n",
       "      <td>10.0</td>\n",
       "    </tr>\n",
       "    <tr>\n",
       "      <th>476</th>\n",
       "      <td>APPLE iPhone 6 Plus (Gold, 128 GB)</td>\n",
       "      <td>4.0</td>\n",
       "    </tr>\n",
       "    <tr>\n",
       "      <th>477</th>\n",
       "      <td>APPLE iPhone 7 Plus (PRODUCT) (Red, 256 GB)</td>\n",
       "      <td>3.0</td>\n",
       "    </tr>\n",
       "    <tr>\n",
       "      <th>478</th>\n",
       "      <td>APPLE iPhone 7 (PRODUCT) (Red, 256 GB)</td>\n",
       "      <td>1.0</td>\n",
       "    </tr>\n",
       "  </tbody>\n",
       "</table>\n",
       "</div>"
      ],
      "text/plain": [
       "                                         Product_name  Reviews\n",
       "469    APPLE iPhone 15 Pro Max (Black Titanium, 1 TB)     27.0\n",
       "470  APPLE iPhone 15 Pro Max (White Titanium, 256 GB)     27.0\n",
       "471  APPLE iPhone 15 Pro Max (White Titanium, 512 GB)     27.0\n",
       "472     APPLE iPhone 8 Plus (PRODUCT)RED (Red, 64 GB)     23.0\n",
       "473    APPLE iPhone 8 Plus (PRODUCT)RED (Red, 256 GB)     23.0\n",
       "474          APPLE iPhone 8 (PRODUCT)RED (Red, 64 GB)     10.0\n",
       "475         APPLE iPhone 8 (PRODUCT)RED (Red, 256 GB)     10.0\n",
       "476                APPLE iPhone 6 Plus (Gold, 128 GB)      4.0\n",
       "477       APPLE iPhone 7 Plus (PRODUCT) (Red, 256 GB)      3.0\n",
       "478            APPLE iPhone 7 (PRODUCT) (Red, 256 GB)      1.0"
      ]
     },
     "execution_count": 43,
     "metadata": {},
     "output_type": "execute_result"
    }
   ],
   "source": [
    "df.groupby(\"Product_name\")[\"Reviews\"].mean().sort_values(ascending = False).reset_index().tail(10)"
   ]
  },
  {
   "cell_type": "markdown",
   "id": "fdc48845",
   "metadata": {},
   "source": [
    "#### Top 10 iphones with the highest Rom"
   ]
  },
  {
   "cell_type": "code",
   "execution_count": 44,
   "id": "db55e6eb",
   "metadata": {
    "scrolled": true
   },
   "outputs": [
    {
     "data": {
      "text/html": [
       "<div>\n",
       "<style scoped>\n",
       "    .dataframe tbody tr th:only-of-type {\n",
       "        vertical-align: middle;\n",
       "    }\n",
       "\n",
       "    .dataframe tbody tr th {\n",
       "        vertical-align: top;\n",
       "    }\n",
       "\n",
       "    .dataframe thead th {\n",
       "        text-align: right;\n",
       "    }\n",
       "</style>\n",
       "<table border=\"1\" class=\"dataframe\">\n",
       "  <thead>\n",
       "    <tr style=\"text-align: right;\">\n",
       "      <th></th>\n",
       "      <th>Product_name</th>\n",
       "      <th>Rom</th>\n",
       "    </tr>\n",
       "  </thead>\n",
       "  <tbody>\n",
       "    <tr>\n",
       "      <th>0</th>\n",
       "      <td>APPLE iPhone 15 (Black, 512 GB)</td>\n",
       "      <td>512.0</td>\n",
       "    </tr>\n",
       "    <tr>\n",
       "      <th>1</th>\n",
       "      <td>APPLE iPhone XS Max (Silver, 512 GB)</td>\n",
       "      <td>512.0</td>\n",
       "    </tr>\n",
       "    <tr>\n",
       "      <th>2</th>\n",
       "      <td>APPLE iPhone 14 (Midnight, 512 GB)</td>\n",
       "      <td>512.0</td>\n",
       "    </tr>\n",
       "    <tr>\n",
       "      <th>3</th>\n",
       "      <td>APPLE iPhone 14 (Blue, 512 GB)</td>\n",
       "      <td>512.0</td>\n",
       "    </tr>\n",
       "    <tr>\n",
       "      <th>4</th>\n",
       "      <td>APPLE iPhone 14 ((PRODUCT)RED, 512 GB)</td>\n",
       "      <td>512.0</td>\n",
       "    </tr>\n",
       "    <tr>\n",
       "      <th>5</th>\n",
       "      <td>APPLE iPhone 13 mini (Starlight, 512 GB)</td>\n",
       "      <td>512.0</td>\n",
       "    </tr>\n",
       "    <tr>\n",
       "      <th>6</th>\n",
       "      <td>APPLE iPhone 13 mini (Pink, 512 GB)</td>\n",
       "      <td>512.0</td>\n",
       "    </tr>\n",
       "    <tr>\n",
       "      <th>7</th>\n",
       "      <td>APPLE iPhone 13 mini (Midnight, 512 GB)</td>\n",
       "      <td>512.0</td>\n",
       "    </tr>\n",
       "    <tr>\n",
       "      <th>8</th>\n",
       "      <td>APPLE iPhone 13 mini (Green, 512 GB)</td>\n",
       "      <td>512.0</td>\n",
       "    </tr>\n",
       "    <tr>\n",
       "      <th>9</th>\n",
       "      <td>APPLE iPhone 13 mini (Blue, 512 GB)</td>\n",
       "      <td>512.0</td>\n",
       "    </tr>\n",
       "  </tbody>\n",
       "</table>\n",
       "</div>"
      ],
      "text/plain": [
       "                               Product_name    Rom\n",
       "0           APPLE iPhone 15 (Black, 512 GB)  512.0\n",
       "1      APPLE iPhone XS Max (Silver, 512 GB)  512.0\n",
       "2        APPLE iPhone 14 (Midnight, 512 GB)  512.0\n",
       "3            APPLE iPhone 14 (Blue, 512 GB)  512.0\n",
       "4    APPLE iPhone 14 ((PRODUCT)RED, 512 GB)  512.0\n",
       "5  APPLE iPhone 13 mini (Starlight, 512 GB)  512.0\n",
       "6       APPLE iPhone 13 mini (Pink, 512 GB)  512.0\n",
       "7   APPLE iPhone 13 mini (Midnight, 512 GB)  512.0\n",
       "8      APPLE iPhone 13 mini (Green, 512 GB)  512.0\n",
       "9       APPLE iPhone 13 mini (Blue, 512 GB)  512.0"
      ]
     },
     "execution_count": 44,
     "metadata": {},
     "output_type": "execute_result"
    }
   ],
   "source": [
    "df.groupby(\"Product_name\")[\"Rom\"].mean().sort_values(ascending = False).reset_index().head(10)"
   ]
  },
  {
   "cell_type": "markdown",
   "id": "3a92e106",
   "metadata": {},
   "source": [
    "#### Top 10 iPhones with the Largest Display Sizes"
   ]
  },
  {
   "cell_type": "code",
   "execution_count": 45,
   "id": "a138aea8",
   "metadata": {},
   "outputs": [
    {
     "data": {
      "text/html": [
       "<div>\n",
       "<style scoped>\n",
       "    .dataframe tbody tr th:only-of-type {\n",
       "        vertical-align: middle;\n",
       "    }\n",
       "\n",
       "    .dataframe tbody tr th {\n",
       "        vertical-align: top;\n",
       "    }\n",
       "\n",
       "    .dataframe thead th {\n",
       "        text-align: right;\n",
       "    }\n",
       "</style>\n",
       "<table border=\"1\" class=\"dataframe\">\n",
       "  <thead>\n",
       "    <tr style=\"text-align: right;\">\n",
       "      <th></th>\n",
       "      <th>Product_name</th>\n",
       "      <th>Display</th>\n",
       "    </tr>\n",
       "  </thead>\n",
       "  <tbody>\n",
       "    <tr>\n",
       "      <th>0</th>\n",
       "      <td>APPLE iPhone 15 Plus (Pink, 128 GB)</td>\n",
       "      <td>17.02</td>\n",
       "    </tr>\n",
       "    <tr>\n",
       "      <th>1</th>\n",
       "      <td>APPLE iPhone 12 Pro Max (Silver, 128 GB)</td>\n",
       "      <td>17.02</td>\n",
       "    </tr>\n",
       "    <tr>\n",
       "      <th>2</th>\n",
       "      <td>APPLE iPhone 15 Plus (Yellow, 512 GB)</td>\n",
       "      <td>17.02</td>\n",
       "    </tr>\n",
       "    <tr>\n",
       "      <th>3</th>\n",
       "      <td>APPLE iPhone 13 Pro Max (Gold, 256 GB)</td>\n",
       "      <td>17.02</td>\n",
       "    </tr>\n",
       "    <tr>\n",
       "      <th>4</th>\n",
       "      <td>APPLE iPhone 13 Pro Max (Graphite, 1 TB)</td>\n",
       "      <td>17.02</td>\n",
       "    </tr>\n",
       "    <tr>\n",
       "      <th>5</th>\n",
       "      <td>APPLE iPhone 13 Pro Max (Graphite, 128 GB)</td>\n",
       "      <td>17.02</td>\n",
       "    </tr>\n",
       "    <tr>\n",
       "      <th>6</th>\n",
       "      <td>APPLE iPhone 13 Pro Max (Graphite, 256 GB)</td>\n",
       "      <td>17.02</td>\n",
       "    </tr>\n",
       "    <tr>\n",
       "      <th>7</th>\n",
       "      <td>APPLE iPhone 13 Pro Max (Graphite, 512 GB)</td>\n",
       "      <td>17.02</td>\n",
       "    </tr>\n",
       "    <tr>\n",
       "      <th>8</th>\n",
       "      <td>APPLE iPhone 13 Pro Max (Sierra Blue, 1 TB)</td>\n",
       "      <td>17.02</td>\n",
       "    </tr>\n",
       "    <tr>\n",
       "      <th>9</th>\n",
       "      <td>APPLE iPhone 13 Pro Max (Sierra Blue, 128 GB)</td>\n",
       "      <td>17.02</td>\n",
       "    </tr>\n",
       "  </tbody>\n",
       "</table>\n",
       "</div>"
      ],
      "text/plain": [
       "                                    Product_name  Display\n",
       "0            APPLE iPhone 15 Plus (Pink, 128 GB)    17.02\n",
       "1       APPLE iPhone 12 Pro Max (Silver, 128 GB)    17.02\n",
       "2          APPLE iPhone 15 Plus (Yellow, 512 GB)    17.02\n",
       "3         APPLE iPhone 13 Pro Max (Gold, 256 GB)    17.02\n",
       "4       APPLE iPhone 13 Pro Max (Graphite, 1 TB)    17.02\n",
       "5     APPLE iPhone 13 Pro Max (Graphite, 128 GB)    17.02\n",
       "6     APPLE iPhone 13 Pro Max (Graphite, 256 GB)    17.02\n",
       "7     APPLE iPhone 13 Pro Max (Graphite, 512 GB)    17.02\n",
       "8    APPLE iPhone 13 Pro Max (Sierra Blue, 1 TB)    17.02\n",
       "9  APPLE iPhone 13 Pro Max (Sierra Blue, 128 GB)    17.02"
      ]
     },
     "execution_count": 45,
     "metadata": {},
     "output_type": "execute_result"
    }
   ],
   "source": [
    "df.groupby(\"Product_name\")[\"Display\"].mean().sort_values(ascending = False).reset_index().head(10)"
   ]
  },
  {
   "cell_type": "code",
   "execution_count": 46,
   "id": "a9107d37",
   "metadata": {
    "scrolled": true
   },
   "outputs": [
    {
     "name": "stdout",
     "output_type": "stream",
     "text": [
      "<class 'pandas.core.frame.DataFrame'>\n",
      "Int64Index: 490 entries, 0 to 489\n",
      "Data columns (total 11 columns):\n",
      " #   Column        Non-Null Count  Dtype  \n",
      "---  ------        --------------  -----  \n",
      " 0   Product_name  490 non-null    object \n",
      " 1   Price         490 non-null    int64  \n",
      " 2   Actual_price  490 non-null    int64  \n",
      " 3   Stars         490 non-null    float64\n",
      " 4   Ratings       490 non-null    int64  \n",
      " 5   Reviews       490 non-null    int64  \n",
      " 6   Rom           490 non-null    int64  \n",
      " 7   Display       490 non-null    float64\n",
      " 8   Back_camera   490 non-null    object \n",
      " 9   Front_camera  490 non-null    object \n",
      " 10  Processor     490 non-null    object \n",
      "dtypes: float64(2), int64(5), object(4)\n",
      "memory usage: 45.9+ KB\n"
     ]
    }
   ],
   "source": [
    "df.info()"
   ]
  },
  {
   "cell_type": "markdown",
   "id": "aac96066",
   "metadata": {},
   "source": [
    "#### Box Plot of Back Camera with Price"
   ]
  },
  {
   "cell_type": "code",
   "execution_count": 47,
   "id": "4d483136",
   "metadata": {},
   "outputs": [
    {
     "data": {
      "image/png": "[encoded data removed]",
      "text/plain": [
       "<Figure size 640x480 with 1 Axes>"
      ]
     },
     "metadata": {},
     "output_type": "display_data"
    }
   ],
   "source": [
    "sns.boxplot(x = \"Back_camera\",y = \"Price\", data = df)\n",
    "plt.xlabel(\"Back Camera\")\n",
    "plt.ylabel(\"Price\")\n",
    "plt.title(\"Box plot of price for each Camera Type \")\n",
    "plt.xticks(rotation = 45)\n",
    "plt.show()"
   ]
  },
  {
   "cell_type": "markdown",
   "id": "8b155cf4",
   "metadata": {},
   "source": [
    "#### Box Plot of Front Camera with Price"
   ]
  },
  {
   "cell_type": "code",
   "execution_count": 48,
   "id": "668037c3",
   "metadata": {},
   "outputs": [
    {
     "data": {
      "image/png": "[encoded data removed]",
      "text/plain": [
       "<Figure size 640x480 with 1 Axes>"
      ]
     },
     "metadata": {},
     "output_type": "display_data"
    }
   ],
   "source": [
    "sns.boxplot(x = \"Front_camera\",y = \"Price\", data = df)\n",
    "plt.xlabel(\"Front Camera\")\n",
    "plt.ylabel(\"Price\")\n",
    "plt.title(\"Box plot of price for each Camera Type \")\n",
    "plt.xticks(rotation = 0)\n",
    "plt.show()"
   ]
  },
  {
   "cell_type": "code",
   "execution_count": 49,
   "id": "6288b084",
   "metadata": {
    "scrolled": true
   },
   "outputs": [
    {
     "data": {
      "text/plain": [
       "Index(['Price', 'Actual_price', 'Stars', 'Ratings', 'Reviews', 'Rom',\n",
       "       'Display'],\n",
       "      dtype='object')"
      ]
     },
     "execution_count": 49,
     "metadata": {},
     "output_type": "execute_result"
    }
   ],
   "source": [
    "num_col = df.select_dtypes([\"int64\",\"float64\"]).columns\n",
    "num_col"
   ]
  },
  {
   "cell_type": "markdown",
   "id": "819c3a7a",
   "metadata": {},
   "source": [
    "#### Scatter plots"
   ]
  },
  {
   "cell_type": "code",
   "execution_count": 50,
   "id": "bc53b9d6",
   "metadata": {},
   "outputs": [
    {
     "data": {
      "text/plain": [
       "<Axes: xlabel='Stars', ylabel='Price'>"
      ]
     },
     "execution_count": 50,
     "metadata": {},
     "output_type": "execute_result"
    },
    {
     "data": {
      "image/png": "[encoded data removed]",
      "text/plain": [
       "<Figure size 800x300 with 1 Axes>"
      ]
     },
     "metadata": {},
     "output_type": "display_data"
    }
   ],
   "source": [
    "plt.figure(figsize = (8,3))\n",
    "sns.scatterplot(x = \"Stars\", y = \"Price\",data = df)"
   ]
  },
  {
   "cell_type": "code",
   "execution_count": 51,
   "id": "6dc96176",
   "metadata": {},
   "outputs": [
    {
     "data": {
      "text/plain": [
       "<Axes: xlabel='Ratings', ylabel='Price'>"
      ]
     },
     "execution_count": 51,
     "metadata": {},
     "output_type": "execute_result"
    },
    {
     "data": {
      "image/png": "[encoded data removed]",
      "text/plain": [
       "<Figure size 800x300 with 1 Axes>"
      ]
     },
     "metadata": {},
     "output_type": "display_data"
    }
   ],
   "source": [
    "plt.figure(figsize = (8,3))\n",
    "sns.scatterplot(x = \"Ratings\", y = \"Price\",data = df)"
   ]
  },
  {
   "cell_type": "code",
   "execution_count": 52,
   "id": "56c92aa3",
   "metadata": {},
   "outputs": [
    {
     "data": {
      "text/plain": [
       "<Axes: xlabel='Reviews', ylabel='Price'>"
      ]
     },
     "execution_count": 52,
     "metadata": {},
     "output_type": "execute_result"
    },
    {
     "data": {
      "image/png": "[encoded data removed]",
      "text/plain": [
       "<Figure size 800x300 with 1 Axes>"
      ]
     },
     "metadata": {},
     "output_type": "display_data"
    }
   ],
   "source": [
    "plt.figure(figsize = (8,3))\n",
    "sns.scatterplot(x = \"Reviews\", y = \"Price\",data = df)"
   ]
  },
  {
   "cell_type": "code",
   "execution_count": 53,
   "id": "a1842e15",
   "metadata": {},
   "outputs": [
    {
     "data": {
      "text/plain": [
       "<Axes: xlabel='Rom', ylabel='Price'>"
      ]
     },
     "execution_count": 53,
     "metadata": {},
     "output_type": "execute_result"
    },
    {
     "data": {
      "image/png": "[encoded data removed]",
      "text/plain": [
       "<Figure size 800x300 with 1 Axes>"
      ]
     },
     "metadata": {},
     "output_type": "display_data"
    }
   ],
   "source": [
    "plt.figure(figsize = (8,3))\n",
    "sns.scatterplot(x = \"Rom\", y = \"Price\",data = df)"
   ]
  },
  {
   "cell_type": "code",
   "execution_count": 54,
   "id": "bef1d756",
   "metadata": {},
   "outputs": [
    {
     "data": {
      "text/plain": [
       "<Axes: xlabel='Display', ylabel='Price'>"
      ]
     },
     "execution_count": 54,
     "metadata": {},
     "output_type": "execute_result"
    },
    {
     "data": {
      "image/png": "[encoded data removed]",
      "text/plain": [
       "<Figure size 800x300 with 1 Axes>"
      ]
     },
     "metadata": {},
     "output_type": "display_data"
    }
   ],
   "source": [
    "plt.figure(figsize = (8,3))\n",
    "sns.scatterplot(x = \"Display\", y = \"Price\",data = df)"
   ]
  },
  {
   "cell_type": "code",
   "execution_count": 55,
   "id": "9c47c4ea",
   "metadata": {},
   "outputs": [
    {
     "data": {
      "text/plain": [
       "<Axes: >"
      ]
     },
     "execution_count": 55,
     "metadata": {},
     "output_type": "execute_result"
    },
    {
     "data": {
      "image/png": "[encoded data removed]",
      "text/plain": [
       "<Figure size 640x480 with 2 Axes>"
      ]
     },
     "metadata": {},
     "output_type": "display_data"
    }
   ],
   "source": [
    "sns.heatmap(df.corr(),annot = True, cmap='viridis')"
   ]
  },
  {
   "cell_type": "code",
   "execution_count": 56,
   "id": "5a252571",
   "metadata": {
    "scrolled": true
   },
   "outputs": [
    {
     "data": {
      "text/plain": [
       "12MP + 12MP            171\n",
       "12MP                   117\n",
       "12MP + 12MP + 12MP      87\n",
       "48MP + 12MP + 12MP      58\n",
       "8MP                     30\n",
       "48MP + 12MP             25\n",
       "5MP                      2\n",
       "Name: Back_camera, dtype: int64"
      ]
     },
     "execution_count": 56,
     "metadata": {},
     "output_type": "execute_result"
    }
   ],
   "source": [
    "df[\"Back_camera\"].value_counts()"
   ]
  },
  {
   "cell_type": "code",
   "execution_count": 57,
   "id": "7bdfd682",
   "metadata": {},
   "outputs": [
    {
     "data": {
      "text/plain": [
       "12MP     295\n",
       "7MP      131\n",
       "5MP       32\n",
       "1.2MP     30\n",
       "0.3MP      2\n",
       "Name: Front_camera, dtype: int64"
      ]
     },
     "execution_count": 57,
     "metadata": {},
     "output_type": "execute_result"
    }
   ],
   "source": [
    "df[\"Front_camera\"].value_counts()"
   ]
  },
  {
   "cell_type": "code",
   "execution_count": 58,
   "id": "688ab9bc",
   "metadata": {},
   "outputs": [],
   "source": [
    "df[\"Back_camera\"] = df[\"Back_camera\"].str.strip() \n",
    "df[\"Front_camera\"] = df[\"Front_camera\"].str.strip() "
   ]
  },
  {
   "cell_type": "code",
   "execution_count": 59,
   "id": "3f1c4dab",
   "metadata": {
    "scrolled": true
   },
   "outputs": [
    {
     "data": {
      "text/html": [
       "<div>\n",
       "<style scoped>\n",
       "    .dataframe tbody tr th:only-of-type {\n",
       "        vertical-align: middle;\n",
       "    }\n",
       "\n",
       "    .dataframe tbody tr th {\n",
       "        vertical-align: top;\n",
       "    }\n",
       "\n",
       "    .dataframe thead th {\n",
       "        text-align: right;\n",
       "    }\n",
       "</style>\n",
       "<table border=\"1\" class=\"dataframe\">\n",
       "  <thead>\n",
       "    <tr style=\"text-align: right;\">\n",
       "      <th></th>\n",
       "      <th>Product_name</th>\n",
       "      <th>Price</th>\n",
       "      <th>Actual_price</th>\n",
       "      <th>Stars</th>\n",
       "      <th>Ratings</th>\n",
       "      <th>Reviews</th>\n",
       "      <th>Rom</th>\n",
       "      <th>Display</th>\n",
       "      <th>Back_camera</th>\n",
       "      <th>Front_camera</th>\n",
       "      <th>Processor</th>\n",
       "    </tr>\n",
       "  </thead>\n",
       "  <tbody>\n",
       "    <tr>\n",
       "      <th>0</th>\n",
       "      <td>APPLE iPhone 14 (Purple, 128 GB)</td>\n",
       "      <td>57999</td>\n",
       "      <td>69900</td>\n",
       "      <td>4.6</td>\n",
       "      <td>264179</td>\n",
       "      <td>10321</td>\n",
       "      <td>128</td>\n",
       "      <td>15.49</td>\n",
       "      <td>12MP + 12MP</td>\n",
       "      <td>12MP</td>\n",
       "      <td>A15 Bionic Chip, 6 Core Processor Processor</td>\n",
       "    </tr>\n",
       "    <tr>\n",
       "      <th>1</th>\n",
       "      <td>APPLE iPhone 13 (Starlight, 128 GB)</td>\n",
       "      <td>51999</td>\n",
       "      <td>59900</td>\n",
       "      <td>4.6</td>\n",
       "      <td>276095</td>\n",
       "      <td>13448</td>\n",
       "      <td>128</td>\n",
       "      <td>15.49</td>\n",
       "      <td>12MP + 12MP</td>\n",
       "      <td>12MP</td>\n",
       "      <td>A15 Bionic Chip Processor</td>\n",
       "    </tr>\n",
       "    <tr>\n",
       "      <th>2</th>\n",
       "      <td>APPLE iPhone 14 (Midnight, 128 GB)</td>\n",
       "      <td>57999</td>\n",
       "      <td>69900</td>\n",
       "      <td>4.6</td>\n",
       "      <td>264179</td>\n",
       "      <td>10321</td>\n",
       "      <td>128</td>\n",
       "      <td>15.49</td>\n",
       "      <td>12MP + 12MP</td>\n",
       "      <td>12MP</td>\n",
       "      <td>A15 Bionic Chip, 6 Core Processor Processor</td>\n",
       "    </tr>\n",
       "    <tr>\n",
       "      <th>3</th>\n",
       "      <td>APPLE iPhone 15 (Blue, 128 GB)</td>\n",
       "      <td>66999</td>\n",
       "      <td>79900</td>\n",
       "      <td>4.6</td>\n",
       "      <td>3229</td>\n",
       "      <td>242</td>\n",
       "      <td>128</td>\n",
       "      <td>15.49</td>\n",
       "      <td>48MP + 12MP</td>\n",
       "      <td>12MP</td>\n",
       "      <td>A16 Bionic Chip, 6 Core Processor Processor</td>\n",
       "    </tr>\n",
       "    <tr>\n",
       "      <th>4</th>\n",
       "      <td>APPLE iPhone 14 (Starlight, 128 GB)</td>\n",
       "      <td>57999</td>\n",
       "      <td>69900</td>\n",
       "      <td>4.6</td>\n",
       "      <td>264179</td>\n",
       "      <td>10321</td>\n",
       "      <td>128</td>\n",
       "      <td>15.49</td>\n",
       "      <td>12MP + 12MP</td>\n",
       "      <td>12MP</td>\n",
       "      <td>A15 Bionic Chip, 6 Core Processor Processor</td>\n",
       "    </tr>\n",
       "  </tbody>\n",
       "</table>\n",
       "</div>"
      ],
      "text/plain": [
       "                          Product_name  Price  Actual_price  Stars  Ratings  \\\n",
       "0     APPLE iPhone 14 (Purple, 128 GB)  57999         69900    4.6   264179   \n",
       "1  APPLE iPhone 13 (Starlight, 128 GB)  51999         59900    4.6   276095   \n",
       "2   APPLE iPhone 14 (Midnight, 128 GB)  57999         69900    4.6   264179   \n",
       "3       APPLE iPhone 15 (Blue, 128 GB)  66999         79900    4.6     3229   \n",
       "4  APPLE iPhone 14 (Starlight, 128 GB)  57999         69900    4.6   264179   \n",
       "\n",
       "   Reviews  Rom  Display  Back_camera Front_camera  \\\n",
       "0    10321  128    15.49  12MP + 12MP         12MP   \n",
       "1    13448  128    15.49  12MP + 12MP         12MP   \n",
       "2    10321  128    15.49  12MP + 12MP         12MP   \n",
       "3      242  128    15.49  48MP + 12MP         12MP   \n",
       "4    10321  128    15.49  12MP + 12MP         12MP   \n",
       "\n",
       "                                     Processor  \n",
       "0  A15 Bionic Chip, 6 Core Processor Processor  \n",
       "1                    A15 Bionic Chip Processor  \n",
       "2  A15 Bionic Chip, 6 Core Processor Processor  \n",
       "3  A16 Bionic Chip, 6 Core Processor Processor  \n",
       "4  A15 Bionic Chip, 6 Core Processor Processor  "
      ]
     },
     "execution_count": 59,
     "metadata": {},
     "output_type": "execute_result"
    }
   ],
   "source": [
    "df.head()"
   ]
  },
  {
   "cell_type": "markdown",
   "id": "40e2d0ad",
   "metadata": {},
   "source": [
    "#### One Hot Encoding"
   ]
  },
  {
   "cell_type": "code",
   "execution_count": 60,
   "id": "dc1d626e",
   "metadata": {},
   "outputs": [],
   "source": [
    "df[\"Back_camera\"]  = df[\"Back_camera\"].map({\"5MP\":0,\n",
    "                                          \"8MP\":1,\n",
    "                                          \"12MP\":2,\n",
    "                                          \"12MP + 12MP\": 3,\n",
    "                                          \"48MP + 12MP\":4,\n",
    "                                          \"12MP + 12MP + 12MP\":5,\n",
    "                                          \"48MP + 12MP + 12MP\":6})"
   ]
  },
  {
   "cell_type": "code",
   "execution_count": 61,
   "id": "0b493daa",
   "metadata": {},
   "outputs": [],
   "source": [
    "df[\"Front_camera\"] = df[\"Front_camera\"].map({\"0.3MP\":0,\n",
    "                                           \"1.2MP\":1,\n",
    "                                           \"5MP\":2,\n",
    "                                           \"7MP\":3,\n",
    "                                           \"12MP\":4})"
   ]
  },
  {
   "cell_type": "code",
   "execution_count": 62,
   "id": "563467cb",
   "metadata": {},
   "outputs": [
    {
     "data": {
      "text/plain": [
       "3    171\n",
       "2    117\n",
       "5     87\n",
       "6     58\n",
       "1     30\n",
       "4     25\n",
       "0      2\n",
       "Name: Back_camera, dtype: int64"
      ]
     },
     "execution_count": 62,
     "metadata": {},
     "output_type": "execute_result"
    }
   ],
   "source": [
    "df[\"Back_camera\"].value_counts()"
   ]
  },
  {
   "cell_type": "code",
   "execution_count": 63,
   "id": "f17d4cf4",
   "metadata": {},
   "outputs": [
    {
     "data": {
      "text/plain": [
       "4    295\n",
       "3    131\n",
       "2     32\n",
       "1     30\n",
       "0      2\n",
       "Name: Front_camera, dtype: int64"
      ]
     },
     "execution_count": 63,
     "metadata": {},
     "output_type": "execute_result"
    }
   ],
   "source": [
    "df[\"Front_camera\"].value_counts()"
   ]
  },
  {
   "cell_type": "code",
   "execution_count": 64,
   "id": "83dd711e",
   "metadata": {},
   "outputs": [
    {
     "data": {
      "text/html": [
       "<div>\n",
       "<style scoped>\n",
       "    .dataframe tbody tr th:only-of-type {\n",
       "        vertical-align: middle;\n",
       "    }\n",
       "\n",
       "    .dataframe tbody tr th {\n",
       "        vertical-align: top;\n",
       "    }\n",
       "\n",
       "    .dataframe thead th {\n",
       "        text-align: right;\n",
       "    }\n",
       "</style>\n",
       "<table border=\"1\" class=\"dataframe\">\n",
       "  <thead>\n",
       "    <tr style=\"text-align: right;\">\n",
       "      <th></th>\n",
       "      <th>Product_name</th>\n",
       "      <th>Price</th>\n",
       "      <th>Actual_price</th>\n",
       "      <th>Stars</th>\n",
       "      <th>Ratings</th>\n",
       "      <th>Reviews</th>\n",
       "      <th>Rom</th>\n",
       "      <th>Display</th>\n",
       "      <th>Back_camera</th>\n",
       "      <th>Front_camera</th>\n",
       "      <th>Processor</th>\n",
       "    </tr>\n",
       "  </thead>\n",
       "  <tbody>\n",
       "    <tr>\n",
       "      <th>478</th>\n",
       "      <td>APPLE IPhone 4 (Black, 8 GB)</td>\n",
       "      <td>22900</td>\n",
       "      <td>0</td>\n",
       "      <td>4.1</td>\n",
       "      <td>1096</td>\n",
       "      <td>183</td>\n",
       "      <td>8</td>\n",
       "      <td>8.89</td>\n",
       "      <td>0</td>\n",
       "      <td>0</td>\n",
       "      <td>1 Year Manufacturer Warranty</td>\n",
       "    </tr>\n",
       "    <tr>\n",
       "      <th>487</th>\n",
       "      <td>APPLE IPhone 4 (White, 8 GB)</td>\n",
       "      <td>13999</td>\n",
       "      <td>22900</td>\n",
       "      <td>4.1</td>\n",
       "      <td>1096</td>\n",
       "      <td>183</td>\n",
       "      <td>8</td>\n",
       "      <td>8.89</td>\n",
       "      <td>0</td>\n",
       "      <td>0</td>\n",
       "      <td>1 Year Manufacturer Warranty</td>\n",
       "    </tr>\n",
       "  </tbody>\n",
       "</table>\n",
       "</div>"
      ],
      "text/plain": [
       "                     Product_name  Price  Actual_price  Stars  Ratings  \\\n",
       "478  APPLE IPhone 4 (Black, 8 GB)  22900             0    4.1     1096   \n",
       "487  APPLE IPhone 4 (White, 8 GB)  13999         22900    4.1     1096   \n",
       "\n",
       "     Reviews  Rom  Display  Back_camera  Front_camera  \\\n",
       "478      183    8     8.89            0             0   \n",
       "487      183    8     8.89            0             0   \n",
       "\n",
       "                        Processor  \n",
       "478  1 Year Manufacturer Warranty  \n",
       "487  1 Year Manufacturer Warranty  "
      ]
     },
     "execution_count": 64,
     "metadata": {},
     "output_type": "execute_result"
    }
   ],
   "source": [
    "df[df[\"Processor\"] == \"1 Year Manufacturer Warranty\"]"
   ]
  },
  {
   "cell_type": "code",
   "execution_count": 65,
   "id": "1938b5e3",
   "metadata": {},
   "outputs": [
    {
     "data": {
      "text/plain": [
       "'A15 Bionic Chip Processor'"
      ]
     },
     "execution_count": 65,
     "metadata": {},
     "output_type": "execute_result"
    }
   ],
   "source": [
    "mode = df[\"Processor\"].mode()[0]\n",
    "mode"
   ]
  },
  {
   "cell_type": "code",
   "execution_count": 66,
   "id": "d5ff90fd",
   "metadata": {},
   "outputs": [],
   "source": [
    "df[\"Processor\"] = df[\"Processor\"].replace({\"1 Year Manufacturer Warranty\":mode})"
   ]
  },
  {
   "cell_type": "code",
   "execution_count": 67,
   "id": "5abf9876",
   "metadata": {},
   "outputs": [
    {
     "data": {
      "text/html": [
       "<div>\n",
       "<style scoped>\n",
       "    .dataframe tbody tr th:only-of-type {\n",
       "        vertical-align: middle;\n",
       "    }\n",
       "\n",
       "    .dataframe tbody tr th {\n",
       "        vertical-align: top;\n",
       "    }\n",
       "\n",
       "    .dataframe thead th {\n",
       "        text-align: right;\n",
       "    }\n",
       "</style>\n",
       "<table border=\"1\" class=\"dataframe\">\n",
       "  <thead>\n",
       "    <tr style=\"text-align: right;\">\n",
       "      <th></th>\n",
       "      <th>Product_name</th>\n",
       "      <th>Price</th>\n",
       "      <th>Actual_price</th>\n",
       "      <th>Stars</th>\n",
       "      <th>Ratings</th>\n",
       "      <th>Reviews</th>\n",
       "      <th>Rom</th>\n",
       "      <th>Display</th>\n",
       "      <th>Back_camera</th>\n",
       "      <th>Front_camera</th>\n",
       "      <th>Processor</th>\n",
       "    </tr>\n",
       "  </thead>\n",
       "  <tbody>\n",
       "  </tbody>\n",
       "</table>\n",
       "</div>"
      ],
      "text/plain": [
       "Empty DataFrame\n",
       "Columns: [Product_name, Price, Actual_price, Stars, Ratings, Reviews, Rom, Display, Back_camera, Front_camera, Processor]\n",
       "Index: []"
      ]
     },
     "execution_count": 67,
     "metadata": {},
     "output_type": "execute_result"
    }
   ],
   "source": [
    "df[df[\"Processor\"] == \"1 Year Manufacturer Warranty\"]"
   ]
  },
  {
   "cell_type": "code",
   "execution_count": 68,
   "id": "59a5a14c",
   "metadata": {
    "scrolled": true
   },
   "outputs": [
    {
     "data": {
      "text/plain": [
       "A15 Bionic Chip Processor                                                                             77\n",
       "A14 Bionic Chip with Next Generation Neural Engine Processor                                          62\n",
       "A16 Bionic Chip, 6 Core Processor Processor                                                           57\n",
       "A15 Bionic Chip, 6 Core Processor Processor                                                           49\n",
       "A12 Bionic Chip Processor                                                                             48\n",
       "A13 Bionic Chip Processor                                                                             35\n",
       "A17 Pro Chip, 6 Core Processor Processor                                                              26\n",
       "Apple A10 Fusion 64-bit processor and Embedded M10 Motion Co-processor                                25\n",
       "A9 Chip with 64-bit Architecture and M9 Motion Co-processor                                           22\n",
       "A11 Bionic Chip with 64-bit Architecture, Neural Engine, Embedded M11 Motion Coprocessor Processor    22\n",
       "A13 Bionic Chip with 3rd Gen Neural Engine Processor                                                  18\n",
       "A8 Chip with 64-bit Architecture and M8 Motion Co-processor                                           12\n",
       "A6 Chip Processor                                                                                      9\n",
       "A10 Fusion Chip with 64-bit Architecture and Embedded M10 Motion Co-processor                          9\n",
       "Apple A9 64-bit processor and Embedded M9 Motion Co-processor                                          8\n",
       "Apple A8 64-bit processor and M8 Motion Co-processor                                                   6\n",
       "Apple A7 64-bit processor and M7 Motion Co-processor                                                   3\n",
       "Apple A9 64-bit processor and M9 Motion Co-processor                                                   2\n",
       "Name: Processor, dtype: int64"
      ]
     },
     "execution_count": 68,
     "metadata": {},
     "output_type": "execute_result"
    }
   ],
   "source": [
    "df[\"Processor\"].value_counts()"
   ]
  },
  {
   "cell_type": "markdown",
   "id": "cb40b126",
   "metadata": {},
   "source": [
    "#### Converting columns to category type"
   ]
  },
  {
   "cell_type": "code",
   "execution_count": 69,
   "id": "524cac6f",
   "metadata": {},
   "outputs": [],
   "source": [
    "cat_col = [\"Rom\",\"Back_camera\",\"Front_camera\",\"Processor\"]\n",
    "\n",
    "df[\"Rom\"] = df[\"Rom\"].astype(\"category\")\n",
    "df[\"Back_camera\"] = df[\"Back_camera\"].astype(\"category\")\n",
    "df[\"Front_camera\"] = df[\"Front_camera\"].astype(\"category\")\n",
    "df[\"Processor\"] = df[\"Processor\"].astype(\"category\")"
   ]
  },
  {
   "cell_type": "markdown",
   "id": "d18824c7",
   "metadata": {},
   "source": [
    "#### Creating dummies for Processor column"
   ]
  },
  {
   "cell_type": "code",
   "execution_count": 70,
   "id": "61c11e3d",
   "metadata": {},
   "outputs": [
    {
     "data": {
      "text/html": [
       "<div>\n",
       "<style scoped>\n",
       "    .dataframe tbody tr th:only-of-type {\n",
       "        vertical-align: middle;\n",
       "    }\n",
       "\n",
       "    .dataframe tbody tr th {\n",
       "        vertical-align: top;\n",
       "    }\n",
       "\n",
       "    .dataframe thead th {\n",
       "        text-align: right;\n",
       "    }\n",
       "</style>\n",
       "<table border=\"1\" class=\"dataframe\">\n",
       "  <thead>\n",
       "    <tr style=\"text-align: right;\">\n",
       "      <th></th>\n",
       "      <th>A11 Bionic Chip with 64-bit Architecture, Neural Engine, Embedded M11 Motion Coprocessor Processor</th>\n",
       "      <th>A12 Bionic Chip Processor</th>\n",
       "      <th>A13 Bionic Chip Processor</th>\n",
       "      <th>A13 Bionic Chip with 3rd Gen Neural Engine Processor</th>\n",
       "      <th>A14 Bionic Chip with Next Generation Neural Engine Processor</th>\n",
       "      <th>A15 Bionic Chip Processor</th>\n",
       "      <th>A15 Bionic Chip, 6 Core Processor Processor</th>\n",
       "      <th>A16 Bionic Chip, 6 Core Processor Processor</th>\n",
       "      <th>A17 Pro Chip, 6 Core Processor Processor</th>\n",
       "      <th>A6 Chip Processor</th>\n",
       "      <th>A8 Chip with 64-bit Architecture and M8 Motion Co-processor</th>\n",
       "      <th>A9 Chip with 64-bit Architecture and M9 Motion Co-processor</th>\n",
       "      <th>Apple A10 Fusion 64-bit processor and Embedded M10 Motion Co-processor</th>\n",
       "      <th>Apple A7 64-bit processor and M7 Motion Co-processor</th>\n",
       "      <th>Apple A8 64-bit processor and M8 Motion Co-processor</th>\n",
       "      <th>Apple A9 64-bit processor and Embedded M9 Motion Co-processor</th>\n",
       "      <th>Apple A9 64-bit processor and M9 Motion Co-processor</th>\n",
       "    </tr>\n",
       "  </thead>\n",
       "  <tbody>\n",
       "    <tr>\n",
       "      <th>0</th>\n",
       "      <td>0</td>\n",
       "      <td>0</td>\n",
       "      <td>0</td>\n",
       "      <td>0</td>\n",
       "      <td>0</td>\n",
       "      <td>0</td>\n",
       "      <td>1</td>\n",
       "      <td>0</td>\n",
       "      <td>0</td>\n",
       "      <td>0</td>\n",
       "      <td>0</td>\n",
       "      <td>0</td>\n",
       "      <td>0</td>\n",
       "      <td>0</td>\n",
       "      <td>0</td>\n",
       "      <td>0</td>\n",
       "      <td>0</td>\n",
       "    </tr>\n",
       "    <tr>\n",
       "      <th>1</th>\n",
       "      <td>0</td>\n",
       "      <td>0</td>\n",
       "      <td>0</td>\n",
       "      <td>0</td>\n",
       "      <td>0</td>\n",
       "      <td>1</td>\n",
       "      <td>0</td>\n",
       "      <td>0</td>\n",
       "      <td>0</td>\n",
       "      <td>0</td>\n",
       "      <td>0</td>\n",
       "      <td>0</td>\n",
       "      <td>0</td>\n",
       "      <td>0</td>\n",
       "      <td>0</td>\n",
       "      <td>0</td>\n",
       "      <td>0</td>\n",
       "    </tr>\n",
       "    <tr>\n",
       "      <th>2</th>\n",
       "      <td>0</td>\n",
       "      <td>0</td>\n",
       "      <td>0</td>\n",
       "      <td>0</td>\n",
       "      <td>0</td>\n",
       "      <td>0</td>\n",
       "      <td>1</td>\n",
       "      <td>0</td>\n",
       "      <td>0</td>\n",
       "      <td>0</td>\n",
       "      <td>0</td>\n",
       "      <td>0</td>\n",
       "      <td>0</td>\n",
       "      <td>0</td>\n",
       "      <td>0</td>\n",
       "      <td>0</td>\n",
       "      <td>0</td>\n",
       "    </tr>\n",
       "    <tr>\n",
       "      <th>3</th>\n",
       "      <td>0</td>\n",
       "      <td>0</td>\n",
       "      <td>0</td>\n",
       "      <td>0</td>\n",
       "      <td>0</td>\n",
       "      <td>0</td>\n",
       "      <td>0</td>\n",
       "      <td>1</td>\n",
       "      <td>0</td>\n",
       "      <td>0</td>\n",
       "      <td>0</td>\n",
       "      <td>0</td>\n",
       "      <td>0</td>\n",
       "      <td>0</td>\n",
       "      <td>0</td>\n",
       "      <td>0</td>\n",
       "      <td>0</td>\n",
       "    </tr>\n",
       "    <tr>\n",
       "      <th>4</th>\n",
       "      <td>0</td>\n",
       "      <td>0</td>\n",
       "      <td>0</td>\n",
       "      <td>0</td>\n",
       "      <td>0</td>\n",
       "      <td>0</td>\n",
       "      <td>1</td>\n",
       "      <td>0</td>\n",
       "      <td>0</td>\n",
       "      <td>0</td>\n",
       "      <td>0</td>\n",
       "      <td>0</td>\n",
       "      <td>0</td>\n",
       "      <td>0</td>\n",
       "      <td>0</td>\n",
       "      <td>0</td>\n",
       "      <td>0</td>\n",
       "    </tr>\n",
       "    <tr>\n",
       "      <th>...</th>\n",
       "      <td>...</td>\n",
       "      <td>...</td>\n",
       "      <td>...</td>\n",
       "      <td>...</td>\n",
       "      <td>...</td>\n",
       "      <td>...</td>\n",
       "      <td>...</td>\n",
       "      <td>...</td>\n",
       "      <td>...</td>\n",
       "      <td>...</td>\n",
       "      <td>...</td>\n",
       "      <td>...</td>\n",
       "      <td>...</td>\n",
       "      <td>...</td>\n",
       "      <td>...</td>\n",
       "      <td>...</td>\n",
       "      <td>...</td>\n",
       "    </tr>\n",
       "    <tr>\n",
       "      <th>485</th>\n",
       "      <td>0</td>\n",
       "      <td>0</td>\n",
       "      <td>0</td>\n",
       "      <td>0</td>\n",
       "      <td>0</td>\n",
       "      <td>0</td>\n",
       "      <td>0</td>\n",
       "      <td>0</td>\n",
       "      <td>0</td>\n",
       "      <td>0</td>\n",
       "      <td>1</td>\n",
       "      <td>0</td>\n",
       "      <td>0</td>\n",
       "      <td>0</td>\n",
       "      <td>0</td>\n",
       "      <td>0</td>\n",
       "      <td>0</td>\n",
       "    </tr>\n",
       "    <tr>\n",
       "      <th>486</th>\n",
       "      <td>0</td>\n",
       "      <td>0</td>\n",
       "      <td>0</td>\n",
       "      <td>0</td>\n",
       "      <td>0</td>\n",
       "      <td>0</td>\n",
       "      <td>0</td>\n",
       "      <td>0</td>\n",
       "      <td>0</td>\n",
       "      <td>0</td>\n",
       "      <td>1</td>\n",
       "      <td>0</td>\n",
       "      <td>0</td>\n",
       "      <td>0</td>\n",
       "      <td>0</td>\n",
       "      <td>0</td>\n",
       "      <td>0</td>\n",
       "    </tr>\n",
       "    <tr>\n",
       "      <th>487</th>\n",
       "      <td>0</td>\n",
       "      <td>0</td>\n",
       "      <td>0</td>\n",
       "      <td>0</td>\n",
       "      <td>0</td>\n",
       "      <td>1</td>\n",
       "      <td>0</td>\n",
       "      <td>0</td>\n",
       "      <td>0</td>\n",
       "      <td>0</td>\n",
       "      <td>0</td>\n",
       "      <td>0</td>\n",
       "      <td>0</td>\n",
       "      <td>0</td>\n",
       "      <td>0</td>\n",
       "      <td>0</td>\n",
       "      <td>0</td>\n",
       "    </tr>\n",
       "    <tr>\n",
       "      <th>488</th>\n",
       "      <td>0</td>\n",
       "      <td>0</td>\n",
       "      <td>0</td>\n",
       "      <td>0</td>\n",
       "      <td>0</td>\n",
       "      <td>0</td>\n",
       "      <td>0</td>\n",
       "      <td>0</td>\n",
       "      <td>0</td>\n",
       "      <td>0</td>\n",
       "      <td>1</td>\n",
       "      <td>0</td>\n",
       "      <td>0</td>\n",
       "      <td>0</td>\n",
       "      <td>0</td>\n",
       "      <td>0</td>\n",
       "      <td>0</td>\n",
       "    </tr>\n",
       "    <tr>\n",
       "      <th>489</th>\n",
       "      <td>0</td>\n",
       "      <td>0</td>\n",
       "      <td>0</td>\n",
       "      <td>0</td>\n",
       "      <td>0</td>\n",
       "      <td>0</td>\n",
       "      <td>0</td>\n",
       "      <td>0</td>\n",
       "      <td>0</td>\n",
       "      <td>0</td>\n",
       "      <td>0</td>\n",
       "      <td>0</td>\n",
       "      <td>0</td>\n",
       "      <td>0</td>\n",
       "      <td>1</td>\n",
       "      <td>0</td>\n",
       "      <td>0</td>\n",
       "    </tr>\n",
       "  </tbody>\n",
       "</table>\n",
       "<p>490 rows × 17 columns</p>\n",
       "</div>"
      ],
      "text/plain": [
       "     A11 Bionic Chip with 64-bit Architecture, Neural Engine, Embedded M11 Motion Coprocessor Processor  \\\n",
       "0                                                    0                                                    \n",
       "1                                                    0                                                    \n",
       "2                                                    0                                                    \n",
       "3                                                    0                                                    \n",
       "4                                                    0                                                    \n",
       "..                                                 ...                                                    \n",
       "485                                                  0                                                    \n",
       "486                                                  0                                                    \n",
       "487                                                  0                                                    \n",
       "488                                                  0                                                    \n",
       "489                                                  0                                                    \n",
       "\n",
       "     A12 Bionic Chip Processor  A13 Bionic Chip Processor  \\\n",
       "0                            0                          0   \n",
       "1                            0                          0   \n",
       "2                            0                          0   \n",
       "3                            0                          0   \n",
       "4                            0                          0   \n",
       "..                         ...                        ...   \n",
       "485                          0                          0   \n",
       "486                          0                          0   \n",
       "487                          0                          0   \n",
       "488                          0                          0   \n",
       "489                          0                          0   \n",
       "\n",
       "     A13 Bionic Chip with 3rd Gen Neural Engine Processor  \\\n",
       "0                                                    0      \n",
       "1                                                    0      \n",
       "2                                                    0      \n",
       "3                                                    0      \n",
       "4                                                    0      \n",
       "..                                                 ...      \n",
       "485                                                  0      \n",
       "486                                                  0      \n",
       "487                                                  0      \n",
       "488                                                  0      \n",
       "489                                                  0      \n",
       "\n",
       "     A14 Bionic Chip with Next Generation Neural Engine Processor  \\\n",
       "0                                                    0              \n",
       "1                                                    0              \n",
       "2                                                    0              \n",
       "3                                                    0              \n",
       "4                                                    0              \n",
       "..                                                 ...              \n",
       "485                                                  0              \n",
       "486                                                  0              \n",
       "487                                                  0              \n",
       "488                                                  0              \n",
       "489                                                  0              \n",
       "\n",
       "     A15 Bionic Chip Processor  A15 Bionic Chip, 6 Core Processor Processor  \\\n",
       "0                            0                                            1   \n",
       "1                            1                                            0   \n",
       "2                            0                                            1   \n",
       "3                            0                                            0   \n",
       "4                            0                                            1   \n",
       "..                         ...                                          ...   \n",
       "485                          0                                            0   \n",
       "486                          0                                            0   \n",
       "487                          1                                            0   \n",
       "488                          0                                            0   \n",
       "489                          0                                            0   \n",
       "\n",
       "     A16 Bionic Chip, 6 Core Processor Processor  \\\n",
       "0                                              0   \n",
       "1                                              0   \n",
       "2                                              0   \n",
       "3                                              1   \n",
       "4                                              0   \n",
       "..                                           ...   \n",
       "485                                            0   \n",
       "486                                            0   \n",
       "487                                            0   \n",
       "488                                            0   \n",
       "489                                            0   \n",
       "\n",
       "     A17 Pro Chip, 6 Core Processor Processor  A6 Chip Processor  \\\n",
       "0                                           0                  0   \n",
       "1                                           0                  0   \n",
       "2                                           0                  0   \n",
       "3                                           0                  0   \n",
       "4                                           0                  0   \n",
       "..                                        ...                ...   \n",
       "485                                         0                  0   \n",
       "486                                         0                  0   \n",
       "487                                         0                  0   \n",
       "488                                         0                  0   \n",
       "489                                         0                  0   \n",
       "\n",
       "     A8 Chip with 64-bit Architecture and M8 Motion Co-processor  \\\n",
       "0                                                    0             \n",
       "1                                                    0             \n",
       "2                                                    0             \n",
       "3                                                    0             \n",
       "4                                                    0             \n",
       "..                                                 ...             \n",
       "485                                                  1             \n",
       "486                                                  1             \n",
       "487                                                  0             \n",
       "488                                                  1             \n",
       "489                                                  0             \n",
       "\n",
       "     A9 Chip with 64-bit Architecture and M9 Motion Co-processor  \\\n",
       "0                                                    0             \n",
       "1                                                    0             \n",
       "2                                                    0             \n",
       "3                                                    0             \n",
       "4                                                    0             \n",
       "..                                                 ...             \n",
       "485                                                  0             \n",
       "486                                                  0             \n",
       "487                                                  0             \n",
       "488                                                  0             \n",
       "489                                                  0             \n",
       "\n",
       "     Apple A10 Fusion 64-bit processor and Embedded M10 Motion Co-processor  \\\n",
       "0                                                    0                        \n",
       "1                                                    0                        \n",
       "2                                                    0                        \n",
       "3                                                    0                        \n",
       "4                                                    0                        \n",
       "..                                                 ...                        \n",
       "485                                                  0                        \n",
       "486                                                  0                        \n",
       "487                                                  0                        \n",
       "488                                                  0                        \n",
       "489                                                  0                        \n",
       "\n",
       "     Apple A7 64-bit processor and M7 Motion Co-processor  \\\n",
       "0                                                    0      \n",
       "1                                                    0      \n",
       "2                                                    0      \n",
       "3                                                    0      \n",
       "4                                                    0      \n",
       "..                                                 ...      \n",
       "485                                                  0      \n",
       "486                                                  0      \n",
       "487                                                  0      \n",
       "488                                                  0      \n",
       "489                                                  0      \n",
       "\n",
       "     Apple A8 64-bit processor and M8 Motion Co-processor  \\\n",
       "0                                                    0      \n",
       "1                                                    0      \n",
       "2                                                    0      \n",
       "3                                                    0      \n",
       "4                                                    0      \n",
       "..                                                 ...      \n",
       "485                                                  0      \n",
       "486                                                  0      \n",
       "487                                                  0      \n",
       "488                                                  0      \n",
       "489                                                  1      \n",
       "\n",
       "     Apple A9 64-bit processor and Embedded M9 Motion Co-processor  \\\n",
       "0                                                    0               \n",
       "1                                                    0               \n",
       "2                                                    0               \n",
       "3                                                    0               \n",
       "4                                                    0               \n",
       "..                                                 ...               \n",
       "485                                                  0               \n",
       "486                                                  0               \n",
       "487                                                  0               \n",
       "488                                                  0               \n",
       "489                                                  0               \n",
       "\n",
       "     Apple A9 64-bit processor and M9 Motion Co-processor  \n",
       "0                                                    0     \n",
       "1                                                    0     \n",
       "2                                                    0     \n",
       "3                                                    0     \n",
       "4                                                    0     \n",
       "..                                                 ...     \n",
       "485                                                  0     \n",
       "486                                                  0     \n",
       "487                                                  0     \n",
       "488                                                  0     \n",
       "489                                                  0     \n",
       "\n",
       "[490 rows x 17 columns]"
      ]
     },
     "execution_count": 70,
     "metadata": {},
     "output_type": "execute_result"
    }
   ],
   "source": [
    "dummies = pd.get_dummies(df[\"Processor\"],drop_first = True)\n",
    "dummies"
   ]
  },
  {
   "cell_type": "markdown",
   "id": "471e9d8d",
   "metadata": {},
   "source": [
    "#### Concating two dataframes"
   ]
  },
  {
   "cell_type": "code",
   "execution_count": 71,
   "id": "3805cb69",
   "metadata": {},
   "outputs": [],
   "source": [
    "df_final = pd.concat([df, dummies],axis = 1)\n",
    "df_final = df_final.drop(\"Processor\",axis = 1)"
   ]
  },
  {
   "cell_type": "code",
   "execution_count": 72,
   "id": "77ea5362",
   "metadata": {},
   "outputs": [
    {
     "data": {
      "text/html": [
       "<div>\n",
       "<style scoped>\n",
       "    .dataframe tbody tr th:only-of-type {\n",
       "        vertical-align: middle;\n",
       "    }\n",
       "\n",
       "    .dataframe tbody tr th {\n",
       "        vertical-align: top;\n",
       "    }\n",
       "\n",
       "    .dataframe thead th {\n",
       "        text-align: right;\n",
       "    }\n",
       "</style>\n",
       "<table border=\"1\" class=\"dataframe\">\n",
       "  <thead>\n",
       "    <tr style=\"text-align: right;\">\n",
       "      <th></th>\n",
       "      <th>Product_name</th>\n",
       "      <th>Price</th>\n",
       "      <th>Actual_price</th>\n",
       "      <th>Stars</th>\n",
       "      <th>Ratings</th>\n",
       "      <th>Reviews</th>\n",
       "      <th>Rom</th>\n",
       "      <th>Display</th>\n",
       "      <th>Back_camera</th>\n",
       "      <th>Front_camera</th>\n",
       "      <th>...</th>\n",
       "      <th>A16 Bionic Chip, 6 Core Processor Processor</th>\n",
       "      <th>A17 Pro Chip, 6 Core Processor Processor</th>\n",
       "      <th>A6 Chip Processor</th>\n",
       "      <th>A8 Chip with 64-bit Architecture and M8 Motion Co-processor</th>\n",
       "      <th>A9 Chip with 64-bit Architecture and M9 Motion Co-processor</th>\n",
       "      <th>Apple A10 Fusion 64-bit processor and Embedded M10 Motion Co-processor</th>\n",
       "      <th>Apple A7 64-bit processor and M7 Motion Co-processor</th>\n",
       "      <th>Apple A8 64-bit processor and M8 Motion Co-processor</th>\n",
       "      <th>Apple A9 64-bit processor and Embedded M9 Motion Co-processor</th>\n",
       "      <th>Apple A9 64-bit processor and M9 Motion Co-processor</th>\n",
       "    </tr>\n",
       "  </thead>\n",
       "  <tbody>\n",
       "    <tr>\n",
       "      <th>0</th>\n",
       "      <td>APPLE iPhone 14 (Purple, 128 GB)</td>\n",
       "      <td>57999</td>\n",
       "      <td>69900</td>\n",
       "      <td>4.6</td>\n",
       "      <td>264179</td>\n",
       "      <td>10321</td>\n",
       "      <td>128</td>\n",
       "      <td>15.49</td>\n",
       "      <td>3</td>\n",
       "      <td>4</td>\n",
       "      <td>...</td>\n",
       "      <td>0</td>\n",
       "      <td>0</td>\n",
       "      <td>0</td>\n",
       "      <td>0</td>\n",
       "      <td>0</td>\n",
       "      <td>0</td>\n",
       "      <td>0</td>\n",
       "      <td>0</td>\n",
       "      <td>0</td>\n",
       "      <td>0</td>\n",
       "    </tr>\n",
       "    <tr>\n",
       "      <th>1</th>\n",
       "      <td>APPLE iPhone 13 (Starlight, 128 GB)</td>\n",
       "      <td>51999</td>\n",
       "      <td>59900</td>\n",
       "      <td>4.6</td>\n",
       "      <td>276095</td>\n",
       "      <td>13448</td>\n",
       "      <td>128</td>\n",
       "      <td>15.49</td>\n",
       "      <td>3</td>\n",
       "      <td>4</td>\n",
       "      <td>...</td>\n",
       "      <td>0</td>\n",
       "      <td>0</td>\n",
       "      <td>0</td>\n",
       "      <td>0</td>\n",
       "      <td>0</td>\n",
       "      <td>0</td>\n",
       "      <td>0</td>\n",
       "      <td>0</td>\n",
       "      <td>0</td>\n",
       "      <td>0</td>\n",
       "    </tr>\n",
       "    <tr>\n",
       "      <th>2</th>\n",
       "      <td>APPLE iPhone 14 (Midnight, 128 GB)</td>\n",
       "      <td>57999</td>\n",
       "      <td>69900</td>\n",
       "      <td>4.6</td>\n",
       "      <td>264179</td>\n",
       "      <td>10321</td>\n",
       "      <td>128</td>\n",
       "      <td>15.49</td>\n",
       "      <td>3</td>\n",
       "      <td>4</td>\n",
       "      <td>...</td>\n",
       "      <td>0</td>\n",
       "      <td>0</td>\n",
       "      <td>0</td>\n",
       "      <td>0</td>\n",
       "      <td>0</td>\n",
       "      <td>0</td>\n",
       "      <td>0</td>\n",
       "      <td>0</td>\n",
       "      <td>0</td>\n",
       "      <td>0</td>\n",
       "    </tr>\n",
       "    <tr>\n",
       "      <th>3</th>\n",
       "      <td>APPLE iPhone 15 (Blue, 128 GB)</td>\n",
       "      <td>66999</td>\n",
       "      <td>79900</td>\n",
       "      <td>4.6</td>\n",
       "      <td>3229</td>\n",
       "      <td>242</td>\n",
       "      <td>128</td>\n",
       "      <td>15.49</td>\n",
       "      <td>4</td>\n",
       "      <td>4</td>\n",
       "      <td>...</td>\n",
       "      <td>1</td>\n",
       "      <td>0</td>\n",
       "      <td>0</td>\n",
       "      <td>0</td>\n",
       "      <td>0</td>\n",
       "      <td>0</td>\n",
       "      <td>0</td>\n",
       "      <td>0</td>\n",
       "      <td>0</td>\n",
       "      <td>0</td>\n",
       "    </tr>\n",
       "    <tr>\n",
       "      <th>4</th>\n",
       "      <td>APPLE iPhone 14 (Starlight, 128 GB)</td>\n",
       "      <td>57999</td>\n",
       "      <td>69900</td>\n",
       "      <td>4.6</td>\n",
       "      <td>264179</td>\n",
       "      <td>10321</td>\n",
       "      <td>128</td>\n",
       "      <td>15.49</td>\n",
       "      <td>3</td>\n",
       "      <td>4</td>\n",
       "      <td>...</td>\n",
       "      <td>0</td>\n",
       "      <td>0</td>\n",
       "      <td>0</td>\n",
       "      <td>0</td>\n",
       "      <td>0</td>\n",
       "      <td>0</td>\n",
       "      <td>0</td>\n",
       "      <td>0</td>\n",
       "      <td>0</td>\n",
       "      <td>0</td>\n",
       "    </tr>\n",
       "  </tbody>\n",
       "</table>\n",
       "<p>5 rows × 27 columns</p>\n",
       "</div>"
      ],
      "text/plain": [
       "                          Product_name  Price  Actual_price  Stars  Ratings  \\\n",
       "0     APPLE iPhone 14 (Purple, 128 GB)  57999         69900    4.6   264179   \n",
       "1  APPLE iPhone 13 (Starlight, 128 GB)  51999         59900    4.6   276095   \n",
       "2   APPLE iPhone 14 (Midnight, 128 GB)  57999         69900    4.6   264179   \n",
       "3       APPLE iPhone 15 (Blue, 128 GB)  66999         79900    4.6     3229   \n",
       "4  APPLE iPhone 14 (Starlight, 128 GB)  57999         69900    4.6   264179   \n",
       "\n",
       "   Reviews  Rom  Display Back_camera Front_camera  ...  \\\n",
       "0    10321  128    15.49           3            4  ...   \n",
       "1    13448  128    15.49           3            4  ...   \n",
       "2    10321  128    15.49           3            4  ...   \n",
       "3      242  128    15.49           4            4  ...   \n",
       "4    10321  128    15.49           3            4  ...   \n",
       "\n",
       "   A16 Bionic Chip, 6 Core Processor Processor  \\\n",
       "0                                            0   \n",
       "1                                            0   \n",
       "2                                            0   \n",
       "3                                            1   \n",
       "4                                            0   \n",
       "\n",
       "   A17 Pro Chip, 6 Core Processor Processor  A6 Chip Processor  \\\n",
       "0                                         0                  0   \n",
       "1                                         0                  0   \n",
       "2                                         0                  0   \n",
       "3                                         0                  0   \n",
       "4                                         0                  0   \n",
       "\n",
       "   A8 Chip with 64-bit Architecture and M8 Motion Co-processor  \\\n",
       "0                                                  0             \n",
       "1                                                  0             \n",
       "2                                                  0             \n",
       "3                                                  0             \n",
       "4                                                  0             \n",
       "\n",
       "   A9 Chip with 64-bit Architecture and M9 Motion Co-processor  \\\n",
       "0                                                  0             \n",
       "1                                                  0             \n",
       "2                                                  0             \n",
       "3                                                  0             \n",
       "4                                                  0             \n",
       "\n",
       "   Apple A10 Fusion 64-bit processor and Embedded M10 Motion Co-processor  \\\n",
       "0                                                  0                        \n",
       "1                                                  0                        \n",
       "2                                                  0                        \n",
       "3                                                  0                        \n",
       "4                                                  0                        \n",
       "\n",
       "   Apple A7 64-bit processor and M7 Motion Co-processor  \\\n",
       "0                                                  0      \n",
       "1                                                  0      \n",
       "2                                                  0      \n",
       "3                                                  0      \n",
       "4                                                  0      \n",
       "\n",
       "   Apple A8 64-bit processor and M8 Motion Co-processor  \\\n",
       "0                                                  0      \n",
       "1                                                  0      \n",
       "2                                                  0      \n",
       "3                                                  0      \n",
       "4                                                  0      \n",
       "\n",
       "   Apple A9 64-bit processor and Embedded M9 Motion Co-processor  \\\n",
       "0                                                  0               \n",
       "1                                                  0               \n",
       "2                                                  0               \n",
       "3                                                  0               \n",
       "4                                                  0               \n",
       "\n",
       "   Apple A9 64-bit processor and M9 Motion Co-processor  \n",
       "0                                                  0     \n",
       "1                                                  0     \n",
       "2                                                  0     \n",
       "3                                                  0     \n",
       "4                                                  0     \n",
       "\n",
       "[5 rows x 27 columns]"
      ]
     },
     "execution_count": 72,
     "metadata": {},
     "output_type": "execute_result"
    }
   ],
   "source": [
    "df_final.head()"
   ]
  },
  {
   "cell_type": "code",
   "execution_count": 73,
   "id": "c771fcb1",
   "metadata": {
    "scrolled": true
   },
   "outputs": [
    {
     "data": {
      "text/plain": [
       "Index(['Product_name', 'Price', 'Actual_price', 'Stars', 'Ratings', 'Reviews',\n",
       "       'Rom', 'Display', 'Back_camera', 'Front_camera',\n",
       "       'A11 Bionic Chip with 64-bit Architecture, Neural Engine, Embedded M11 Motion Coprocessor Processor',\n",
       "       'A12 Bionic Chip Processor', 'A13 Bionic Chip Processor',\n",
       "       'A13 Bionic Chip with 3rd Gen Neural Engine Processor',\n",
       "       'A14 Bionic Chip with Next Generation Neural Engine Processor',\n",
       "       'A15 Bionic Chip Processor',\n",
       "       'A15 Bionic Chip, 6 Core Processor Processor',\n",
       "       'A16 Bionic Chip, 6 Core Processor Processor',\n",
       "       'A17 Pro Chip, 6 Core Processor Processor', 'A6 Chip Processor',\n",
       "       'A8 Chip with 64-bit Architecture and M8 Motion Co-processor',\n",
       "       'A9 Chip with 64-bit Architecture and M9 Motion Co-processor',\n",
       "       'Apple A10 Fusion 64-bit processor and Embedded M10 Motion Co-processor',\n",
       "       'Apple A7 64-bit processor and M7 Motion Co-processor',\n",
       "       'Apple A8 64-bit processor and M8 Motion Co-processor',\n",
       "       'Apple A9 64-bit processor and Embedded M9 Motion Co-processor',\n",
       "       'Apple A9 64-bit processor and M9 Motion Co-processor'],\n",
       "      dtype='object')"
      ]
     },
     "execution_count": 73,
     "metadata": {},
     "output_type": "execute_result"
    }
   ],
   "source": [
    "df_final.columns"
   ]
  },
  {
   "cell_type": "markdown",
   "id": "b724bfeb",
   "metadata": {},
   "source": [
    "#### Train Test Split"
   ]
  },
  {
   "cell_type": "code",
   "execution_count": 74,
   "id": "a85eaf7f",
   "metadata": {},
   "outputs": [],
   "source": [
    "from sklearn.model_selection import train_test_split"
   ]
  },
  {
   "cell_type": "code",
   "execution_count": 75,
   "id": "752ed7f9",
   "metadata": {},
   "outputs": [],
   "source": [
    "x = df_final.drop([\"Price\",\"Product_name\"],axis = 1)\n",
    "y = df_final[\"Price\"]"
   ]
  },
  {
   "cell_type": "code",
   "execution_count": 76,
   "id": "95cabacc",
   "metadata": {},
   "outputs": [],
   "source": [
    "x_train, x_test, y_train, y_test = train_test_split(x, y, test_size=0.2, random_state=0)"
   ]
  },
  {
   "cell_type": "markdown",
   "id": "220ede45",
   "metadata": {},
   "source": [
    "#### Feature Scaling"
   ]
  },
  {
   "cell_type": "code",
   "execution_count": 77,
   "id": "b3dee40a",
   "metadata": {},
   "outputs": [],
   "source": [
    "from sklearn.preprocessing import MinMaxScaler"
   ]
  },
  {
   "cell_type": "code",
   "execution_count": 78,
   "id": "c28122e4",
   "metadata": {},
   "outputs": [],
   "source": [
    "scaler = MinMaxScaler()\n",
    "num_col = x_train.select_dtypes(include = [\"int64\",\"float64\"]).columns\n",
    "x_train[num_col] = scaler.fit_transform(x_train[num_col])\n",
    "x_test[num_col] = scaler.transform(x_test[num_col])"
   ]
  },
  {
   "cell_type": "code",
   "execution_count": 79,
   "id": "213f0cf5",
   "metadata": {},
   "outputs": [
    {
     "data": {
      "text/html": [
       "<div>\n",
       "<style scoped>\n",
       "    .dataframe tbody tr th:only-of-type {\n",
       "        vertical-align: middle;\n",
       "    }\n",
       "\n",
       "    .dataframe tbody tr th {\n",
       "        vertical-align: top;\n",
       "    }\n",
       "\n",
       "    .dataframe thead th {\n",
       "        text-align: right;\n",
       "    }\n",
       "</style>\n",
       "<table border=\"1\" class=\"dataframe\">\n",
       "  <thead>\n",
       "    <tr style=\"text-align: right;\">\n",
       "      <th></th>\n",
       "      <th>Actual_price</th>\n",
       "      <th>Stars</th>\n",
       "      <th>Ratings</th>\n",
       "      <th>Reviews</th>\n",
       "      <th>Rom</th>\n",
       "      <th>Display</th>\n",
       "      <th>Back_camera</th>\n",
       "      <th>Front_camera</th>\n",
       "      <th>A11 Bionic Chip with 64-bit Architecture, Neural Engine, Embedded M11 Motion Coprocessor Processor</th>\n",
       "      <th>A12 Bionic Chip Processor</th>\n",
       "      <th>...</th>\n",
       "      <th>A16 Bionic Chip, 6 Core Processor Processor</th>\n",
       "      <th>A17 Pro Chip, 6 Core Processor Processor</th>\n",
       "      <th>A6 Chip Processor</th>\n",
       "      <th>A8 Chip with 64-bit Architecture and M8 Motion Co-processor</th>\n",
       "      <th>A9 Chip with 64-bit Architecture and M9 Motion Co-processor</th>\n",
       "      <th>Apple A10 Fusion 64-bit processor and Embedded M10 Motion Co-processor</th>\n",
       "      <th>Apple A7 64-bit processor and M7 Motion Co-processor</th>\n",
       "      <th>Apple A8 64-bit processor and M8 Motion Co-processor</th>\n",
       "      <th>Apple A9 64-bit processor and Embedded M9 Motion Co-processor</th>\n",
       "      <th>Apple A9 64-bit processor and M9 Motion Co-processor</th>\n",
       "    </tr>\n",
       "  </thead>\n",
       "  <tbody>\n",
       "    <tr>\n",
       "      <th>8</th>\n",
       "      <td>0.299650</td>\n",
       "      <td>0.875</td>\n",
       "      <td>1.000000</td>\n",
       "      <td>0.830215</td>\n",
       "      <td>128</td>\n",
       "      <td>0.811808</td>\n",
       "      <td>3</td>\n",
       "      <td>4</td>\n",
       "      <td>0</td>\n",
       "      <td>0</td>\n",
       "      <td>...</td>\n",
       "      <td>0</td>\n",
       "      <td>0</td>\n",
       "      <td>0</td>\n",
       "      <td>0</td>\n",
       "      <td>0</td>\n",
       "      <td>0</td>\n",
       "      <td>0</td>\n",
       "      <td>0</td>\n",
       "      <td>0</td>\n",
       "      <td>0</td>\n",
       "    </tr>\n",
       "    <tr>\n",
       "      <th>188</th>\n",
       "      <td>0.449725</td>\n",
       "      <td>0.875</td>\n",
       "      <td>0.214061</td>\n",
       "      <td>0.215040</td>\n",
       "      <td>256</td>\n",
       "      <td>1.000000</td>\n",
       "      <td>3</td>\n",
       "      <td>4</td>\n",
       "      <td>0</td>\n",
       "      <td>0</td>\n",
       "      <td>...</td>\n",
       "      <td>0</td>\n",
       "      <td>0</td>\n",
       "      <td>0</td>\n",
       "      <td>0</td>\n",
       "      <td>0</td>\n",
       "      <td>0</td>\n",
       "      <td>0</td>\n",
       "      <td>0</td>\n",
       "      <td>0</td>\n",
       "      <td>0</td>\n",
       "    </tr>\n",
       "    <tr>\n",
       "      <th>424</th>\n",
       "      <td>0.000000</td>\n",
       "      <td>0.875</td>\n",
       "      <td>0.039667</td>\n",
       "      <td>0.053281</td>\n",
       "      <td>64</td>\n",
       "      <td>0.718327</td>\n",
       "      <td>3</td>\n",
       "      <td>3</td>\n",
       "      <td>1</td>\n",
       "      <td>0</td>\n",
       "      <td>...</td>\n",
       "      <td>0</td>\n",
       "      <td>0</td>\n",
       "      <td>0</td>\n",
       "      <td>0</td>\n",
       "      <td>0</td>\n",
       "      <td>0</td>\n",
       "      <td>0</td>\n",
       "      <td>0</td>\n",
       "      <td>0</td>\n",
       "      <td>0</td>\n",
       "    </tr>\n",
       "    <tr>\n",
       "      <th>458</th>\n",
       "      <td>0.000000</td>\n",
       "      <td>0.750</td>\n",
       "      <td>0.560627</td>\n",
       "      <td>0.745447</td>\n",
       "      <td>128</td>\n",
       "      <td>0.375154</td>\n",
       "      <td>2</td>\n",
       "      <td>3</td>\n",
       "      <td>0</td>\n",
       "      <td>0</td>\n",
       "      <td>...</td>\n",
       "      <td>0</td>\n",
       "      <td>0</td>\n",
       "      <td>0</td>\n",
       "      <td>0</td>\n",
       "      <td>0</td>\n",
       "      <td>0</td>\n",
       "      <td>0</td>\n",
       "      <td>0</td>\n",
       "      <td>0</td>\n",
       "      <td>0</td>\n",
       "    </tr>\n",
       "    <tr>\n",
       "      <th>154</th>\n",
       "      <td>0.349675</td>\n",
       "      <td>0.875</td>\n",
       "      <td>1.000000</td>\n",
       "      <td>0.830215</td>\n",
       "      <td>256</td>\n",
       "      <td>0.811808</td>\n",
       "      <td>3</td>\n",
       "      <td>4</td>\n",
       "      <td>0</td>\n",
       "      <td>0</td>\n",
       "      <td>...</td>\n",
       "      <td>0</td>\n",
       "      <td>0</td>\n",
       "      <td>0</td>\n",
       "      <td>0</td>\n",
       "      <td>0</td>\n",
       "      <td>0</td>\n",
       "      <td>0</td>\n",
       "      <td>0</td>\n",
       "      <td>0</td>\n",
       "      <td>0</td>\n",
       "    </tr>\n",
       "  </tbody>\n",
       "</table>\n",
       "<p>5 rows × 25 columns</p>\n",
       "</div>"
      ],
      "text/plain": [
       "     Actual_price  Stars   Ratings   Reviews  Rom   Display Back_camera  \\\n",
       "8        0.299650  0.875  1.000000  0.830215  128  0.811808           3   \n",
       "188      0.449725  0.875  0.214061  0.215040  256  1.000000           3   \n",
       "424      0.000000  0.875  0.039667  0.053281   64  0.718327           3   \n",
       "458      0.000000  0.750  0.560627  0.745447  128  0.375154           2   \n",
       "154      0.349675  0.875  1.000000  0.830215  256  0.811808           3   \n",
       "\n",
       "    Front_camera  \\\n",
       "8              4   \n",
       "188            4   \n",
       "424            3   \n",
       "458            3   \n",
       "154            4   \n",
       "\n",
       "     A11 Bionic Chip with 64-bit Architecture, Neural Engine, Embedded M11 Motion Coprocessor Processor  \\\n",
       "8                                                    0                                                    \n",
       "188                                                  0                                                    \n",
       "424                                                  1                                                    \n",
       "458                                                  0                                                    \n",
       "154                                                  0                                                    \n",
       "\n",
       "     A12 Bionic Chip Processor  ...  \\\n",
       "8                            0  ...   \n",
       "188                          0  ...   \n",
       "424                          0  ...   \n",
       "458                          0  ...   \n",
       "154                          0  ...   \n",
       "\n",
       "     A16 Bionic Chip, 6 Core Processor Processor  \\\n",
       "8                                              0   \n",
       "188                                            0   \n",
       "424                                            0   \n",
       "458                                            0   \n",
       "154                                            0   \n",
       "\n",
       "     A17 Pro Chip, 6 Core Processor Processor  A6 Chip Processor  \\\n",
       "8                                           0                  0   \n",
       "188                                         0                  0   \n",
       "424                                         0                  0   \n",
       "458                                         0                  0   \n",
       "154                                         0                  0   \n",
       "\n",
       "     A8 Chip with 64-bit Architecture and M8 Motion Co-processor  \\\n",
       "8                                                    0             \n",
       "188                                                  0             \n",
       "424                                                  0             \n",
       "458                                                  0             \n",
       "154                                                  0             \n",
       "\n",
       "     A9 Chip with 64-bit Architecture and M9 Motion Co-processor  \\\n",
       "8                                                    0             \n",
       "188                                                  0             \n",
       "424                                                  0             \n",
       "458                                                  0             \n",
       "154                                                  0             \n",
       "\n",
       "     Apple A10 Fusion 64-bit processor and Embedded M10 Motion Co-processor  \\\n",
       "8                                                    0                        \n",
       "188                                                  0                        \n",
       "424                                                  0                        \n",
       "458                                                  0                        \n",
       "154                                                  0                        \n",
       "\n",
       "     Apple A7 64-bit processor and M7 Motion Co-processor  \\\n",
       "8                                                    0      \n",
       "188                                                  0      \n",
       "424                                                  0      \n",
       "458                                                  0      \n",
       "154                                                  0      \n",
       "\n",
       "     Apple A8 64-bit processor and M8 Motion Co-processor  \\\n",
       "8                                                    0      \n",
       "188                                                  0      \n",
       "424                                                  0      \n",
       "458                                                  0      \n",
       "154                                                  0      \n",
       "\n",
       "     Apple A9 64-bit processor and Embedded M9 Motion Co-processor  \\\n",
       "8                                                    0               \n",
       "188                                                  0               \n",
       "424                                                  0               \n",
       "458                                                  0               \n",
       "154                                                  0               \n",
       "\n",
       "     Apple A9 64-bit processor and M9 Motion Co-processor  \n",
       "8                                                    0     \n",
       "188                                                  0     \n",
       "424                                                  0     \n",
       "458                                                  0     \n",
       "154                                                  0     \n",
       "\n",
       "[5 rows x 25 columns]"
      ]
     },
     "execution_count": 79,
     "metadata": {},
     "output_type": "execute_result"
    }
   ],
   "source": [
    "x_train.head()"
   ]
  },
  {
   "cell_type": "markdown",
   "id": "1ab555e4",
   "metadata": {},
   "source": [
    "#### Model Building"
   ]
  },
  {
   "cell_type": "code",
   "execution_count": 80,
   "id": "decdaf14",
   "metadata": {},
   "outputs": [],
   "source": [
    "from sklearn.linear_model import LinearRegression"
   ]
  },
  {
   "cell_type": "code",
   "execution_count": 81,
   "id": "8a7d0c37",
   "metadata": {},
   "outputs": [
    {
     "data": {
      "text/html": [
       "<style>#sk-container-id-1 {color: black;background-color: white;}#sk-container-id-1 pre{padding: 0;}#sk-container-id-1 div.sk-toggleable {background-color: white;}#sk-container-id-1 label.sk-toggleable__label {cursor: pointer;display: block;width: 100%;margin-bottom: 0;padding: 0.3em;box-sizing: border-box;text-align: center;}#sk-container-id-1 label.sk-toggleable__label-arrow:before {content: \"▸\";float: left;margin-right: 0.25em;color: #696969;}#sk-container-id-1 label.sk-toggleable__label-arrow:hover:before {color: black;}#sk-container-id-1 div.sk-estimator:hover label.sk-toggleable__label-arrow:before {color: black;}#sk-container-id-1 div.sk-toggleable__content {max-height: 0;max-width: 0;overflow: hidden;text-align: left;background-color: #f0f8ff;}#sk-container-id-1 div.sk-toggleable__content pre {margin: 0.2em;color: black;border-radius: 0.25em;background-color: #f0f8ff;}#sk-container-id-1 input.sk-toggleable__control:checked~div.sk-toggleable__content {max-height: 200px;max-width: 100%;overflow: auto;}#sk-container-id-1 input.sk-toggleable__control:checked~label.sk-toggleable__label-arrow:before {content: \"▾\";}#sk-container-id-1 div.sk-estimator input.sk-toggleable__control:checked~label.sk-toggleable__label {background-color: #d4ebff;}#sk-container-id-1 div.sk-label input.sk-toggleable__control:checked~label.sk-toggleable__label {background-color: #d4ebff;}#sk-container-id-1 input.sk-hidden--visually {border: 0;clip: rect(1px 1px 1px 1px);clip: rect(1px, 1px, 1px, 1px);height: 1px;margin: -1px;overflow: hidden;padding: 0;position: absolute;width: 1px;}#sk-container-id-1 div.sk-estimator {font-family: monospace;background-color: #f0f8ff;border: 1px dotted black;border-radius: 0.25em;box-sizing: border-box;margin-bottom: 0.5em;}#sk-container-id-1 div.sk-estimator:hover {background-color: #d4ebff;}#sk-container-id-1 div.sk-parallel-item::after {content: \"\";width: 100%;border-bottom: 1px solid gray;flex-grow: 1;}#sk-container-id-1 div.sk-label:hover label.sk-toggleable__label {background-color: #d4ebff;}#sk-container-id-1 div.sk-serial::before {content: \"\";position: absolute;border-left: 1px solid gray;box-sizing: border-box;top: 0;bottom: 0;left: 50%;z-index: 0;}#sk-container-id-1 div.sk-serial {display: flex;flex-direction: column;align-items: center;background-color: white;padding-right: 0.2em;padding-left: 0.2em;position: relative;}#sk-container-id-1 div.sk-item {position: relative;z-index: 1;}#sk-container-id-1 div.sk-parallel {display: flex;align-items: stretch;justify-content: center;background-color: white;position: relative;}#sk-container-id-1 div.sk-item::before, #sk-container-id-1 div.sk-parallel-item::before {content: \"\";position: absolute;border-left: 1px solid gray;box-sizing: border-box;top: 0;bottom: 0;left: 50%;z-index: -1;}#sk-container-id-1 div.sk-parallel-item {display: flex;flex-direction: column;z-index: 1;position: relative;background-color: white;}#sk-container-id-1 div.sk-parallel-item:first-child::after {align-self: flex-end;width: 50%;}#sk-container-id-1 div.sk-parallel-item:last-child::after {align-self: flex-start;width: 50%;}#sk-container-id-1 div.sk-parallel-item:only-child::after {width: 0;}#sk-container-id-1 div.sk-dashed-wrapped {border: 1px dashed gray;margin: 0 0.4em 0.5em 0.4em;box-sizing: border-box;padding-bottom: 0.4em;background-color: white;}#sk-container-id-1 div.sk-label label {font-family: monospace;font-weight: bold;display: inline-block;line-height: 1.2em;}#sk-container-id-1 div.sk-label-container {text-align: center;}#sk-container-id-1 div.sk-container {/* jupyter's `normalize.less` sets `[hidden] { display: none; }` but bootstrap.min.css set `[hidden] { display: none !important; }` so we also need the `!important` here to be able to override the default hidden behavior on the sphinx rendered scikit-learn.org. See: https://github.com/scikit-learn/scikit-learn/issues/21755 */display: inline-block !important;position: relative;}#sk-container-id-1 div.sk-text-repr-fallback {display: none;}</style><div id=\"sk-container-id-1\" class=\"sk-top-container\"><div class=\"sk-text-repr-fallback\"><pre>LinearRegression()</pre><b>In a Jupyter environment, please rerun this cell to show the HTML representation or trust the notebook. <br />On GitHub, the HTML representation is unable to render, please try loading this page with nbviewer.org.</b></div><div class=\"sk-container\" hidden><div class=\"sk-item\"><div class=\"sk-estimator sk-toggleable\"><input class=\"sk-toggleable__control sk-hidden--visually\" id=\"sk-estimator-id-1\" type=\"checkbox\" checked><label for=\"sk-estimator-id-1\" class=\"sk-toggleable__label sk-toggleable__label-arrow\">LinearRegression</label><div class=\"sk-toggleable__content\"><pre>LinearRegression()</pre></div></div></div></div></div>"
      ],
      "text/plain": [
       "LinearRegression()"
      ]
     },
     "execution_count": 81,
     "metadata": {},
     "output_type": "execute_result"
    }
   ],
   "source": [
    "reg = LinearRegression()\n",
    "reg.fit(x_train,y_train)"
   ]
  },
  {
   "cell_type": "markdown",
   "id": "072c6a50",
   "metadata": {},
   "source": [
    "#### Testing Performance"
   ]
  },
  {
   "cell_type": "code",
   "execution_count": 82,
   "id": "ac08a7e1",
   "metadata": {},
   "outputs": [],
   "source": [
    "y_train_pred = reg.predict(x_train)"
   ]
  },
  {
   "cell_type": "code",
   "execution_count": 83,
   "id": "70dec3cf",
   "metadata": {},
   "outputs": [],
   "source": [
    "y_pred = reg.predict(x_test)"
   ]
  },
  {
   "cell_type": "code",
   "execution_count": 84,
   "id": "1b247c68",
   "metadata": {},
   "outputs": [],
   "source": [
    "from sklearn.metrics import r2_score, mean_squared_error"
   ]
  },
  {
   "cell_type": "code",
   "execution_count": 85,
   "id": "abe4ceef",
   "metadata": {},
   "outputs": [
    {
     "name": "stdout",
     "output_type": "stream",
     "text": [
      "The Traning Accuracy is : 0.896414005862686\n",
      "The Testing Accuracy is : 0.8511301894622973\n"
     ]
    }
   ],
   "source": [
    "print(\"The Traning Accuracy is :\", r2_score(y_train,y_train_pred))\n",
    "print(\"The Testing Accuracy is :\", r2_score(y_test,y_pred))"
   ]
  },
  {
   "cell_type": "code",
   "execution_count": 86,
   "id": "ba393e84",
   "metadata": {},
   "outputs": [
    {
     "name": "stdout",
     "output_type": "stream",
     "text": [
      "Mean squared error is : 263219218.45371994\n"
     ]
    }
   ],
   "source": [
    "mse = mean_squared_error(y_test,y_pred)\n",
    "print(\"Mean squared error is :\", mse)"
   ]
  },
  {
   "cell_type": "code",
   "execution_count": 87,
   "id": "35e9f748",
   "metadata": {},
   "outputs": [
    {
     "name": "stdout",
     "output_type": "stream",
     "text": [
      "Root mean squared error is : 16224.03212687031\n"
     ]
    }
   ],
   "source": [
    "rmse = np.sqrt(mse)\n",
    "print(\"Root mean squared error is :\", rmse)"
   ]
  },
  {
   "cell_type": "code",
   "execution_count": null,
   "id": "33474996",
   "metadata": {},
   "outputs": [],
   "source": []
  }
 ],
 "metadata": {
  "kernelspec": {
   "display_name": "Python 3 (ipykernel)",
   "language": "python",
   "name": "python3"
  },
  "language_info": {
   "codemirror_mode": {
    "name": "ipython",
    "version": 3
   },
   "file_extension": ".py",
   "mimetype": "text/x-python",
   "name": "python",
   "nbconvert_exporter": "python",
   "pygments_lexer": "ipython3",
   "version": "3.10.9"
  }
 },
 "nbformat": 4,
 "nbformat_minor": 5
}
